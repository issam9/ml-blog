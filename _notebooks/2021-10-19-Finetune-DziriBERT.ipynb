{
  "nbformat": 4,
  "nbformat_minor": 0,
  "metadata": {
    "colab": {
      "name": "2021-10-19-Finetune-DziriBERT.ipynb",
      "provenance": [],
      "collapsed_sections": []
    },
    "kernelspec": {
      "display_name": "Python 3",
      "name": "python3"
    },
    "language_info": {
      "name": "python"
    },
    "widgets": {
      "application/vnd.jupyter.widget-state+json": {
        "323561f198d14798845b63037bd8f996": {
          "model_module": "@jupyter-widgets/controls",
          "model_name": "HBoxModel",
          "model_module_version": "1.5.0",
          "state": {
            "_view_name": "HBoxView",
            "_dom_classes": [],
            "_model_name": "HBoxModel",
            "_view_module": "@jupyter-widgets/controls",
            "_model_module_version": "1.5.0",
            "_view_count": null,
            "_view_module_version": "1.5.0",
            "box_style": "",
            "layout": "IPY_MODEL_60428e6aca6646af888f21d1832077b9",
            "_model_module": "@jupyter-widgets/controls",
            "children": [
              "IPY_MODEL_97e75fd431634c3c97fbd446c94687a6",
              "IPY_MODEL_8f34e7dbb1d4423ab583b3f20e2112fb",
              "IPY_MODEL_79df8fd4327e447792522503477e7ca8"
            ]
          }
        },
        "60428e6aca6646af888f21d1832077b9": {
          "model_module": "@jupyter-widgets/base",
          "model_name": "LayoutModel",
          "model_module_version": "1.2.0",
          "state": {
            "_view_name": "LayoutView",
            "grid_template_rows": null,
            "right": null,
            "justify_content": null,
            "_view_module": "@jupyter-widgets/base",
            "overflow": null,
            "_model_module_version": "1.2.0",
            "_view_count": null,
            "flex_flow": null,
            "width": null,
            "min_width": null,
            "border": null,
            "align_items": null,
            "bottom": null,
            "_model_module": "@jupyter-widgets/base",
            "top": null,
            "grid_column": null,
            "overflow_y": null,
            "overflow_x": null,
            "grid_auto_flow": null,
            "grid_area": null,
            "grid_template_columns": null,
            "flex": null,
            "_model_name": "LayoutModel",
            "justify_items": null,
            "grid_row": null,
            "max_height": null,
            "align_content": null,
            "visibility": null,
            "align_self": null,
            "height": null,
            "min_height": null,
            "padding": null,
            "grid_auto_rows": null,
            "grid_gap": null,
            "max_width": null,
            "order": null,
            "_view_module_version": "1.2.0",
            "grid_template_areas": null,
            "object_position": null,
            "object_fit": null,
            "grid_auto_columns": null,
            "margin": null,
            "display": null,
            "left": null
          }
        },
        "97e75fd431634c3c97fbd446c94687a6": {
          "model_module": "@jupyter-widgets/controls",
          "model_name": "HTMLModel",
          "model_module_version": "1.5.0",
          "state": {
            "_view_name": "HTMLView",
            "style": "IPY_MODEL_7c432af1e0b34d0ab97099ee7eab1e9e",
            "_dom_classes": [],
            "description": "",
            "_model_name": "HTMLModel",
            "placeholder": "​",
            "_view_module": "@jupyter-widgets/controls",
            "_model_module_version": "1.5.0",
            "value": "Downloading: 100%",
            "_view_count": null,
            "_view_module_version": "1.5.0",
            "description_tooltip": null,
            "_model_module": "@jupyter-widgets/controls",
            "layout": "IPY_MODEL_fb7b6f9c6e8d4611ac39b4f3c603753e"
          }
        },
        "8f34e7dbb1d4423ab583b3f20e2112fb": {
          "model_module": "@jupyter-widgets/controls",
          "model_name": "FloatProgressModel",
          "model_module_version": "1.5.0",
          "state": {
            "_view_name": "ProgressView",
            "style": "IPY_MODEL_b6b268370d0c499a836560f3b3fabaea",
            "_dom_classes": [],
            "description": "",
            "_model_name": "FloatProgressModel",
            "bar_style": "success",
            "max": 446200,
            "_view_module": "@jupyter-widgets/controls",
            "_model_module_version": "1.5.0",
            "value": 446200,
            "_view_count": null,
            "_view_module_version": "1.5.0",
            "orientation": "horizontal",
            "min": 0,
            "description_tooltip": null,
            "_model_module": "@jupyter-widgets/controls",
            "layout": "IPY_MODEL_0e6ca9d6ca8e455ea041cbeda0cc9d77"
          }
        },
        "79df8fd4327e447792522503477e7ca8": {
          "model_module": "@jupyter-widgets/controls",
          "model_name": "HTMLModel",
          "model_module_version": "1.5.0",
          "state": {
            "_view_name": "HTMLView",
            "style": "IPY_MODEL_dfd4a6d841e34641887fec78f5fbee26",
            "_dom_classes": [],
            "description": "",
            "_model_name": "HTMLModel",
            "placeholder": "​",
            "_view_module": "@jupyter-widgets/controls",
            "_model_module_version": "1.5.0",
            "value": " 436k/436k [00:00&lt;00:00, 912kB/s]",
            "_view_count": null,
            "_view_module_version": "1.5.0",
            "description_tooltip": null,
            "_model_module": "@jupyter-widgets/controls",
            "layout": "IPY_MODEL_7027814b08614ef8b5f967d725ee4034"
          }
        },
        "7c432af1e0b34d0ab97099ee7eab1e9e": {
          "model_module": "@jupyter-widgets/controls",
          "model_name": "DescriptionStyleModel",
          "model_module_version": "1.5.0",
          "state": {
            "_view_name": "StyleView",
            "_model_name": "DescriptionStyleModel",
            "description_width": "",
            "_view_module": "@jupyter-widgets/base",
            "_model_module_version": "1.5.0",
            "_view_count": null,
            "_view_module_version": "1.2.0",
            "_model_module": "@jupyter-widgets/controls"
          }
        },
        "fb7b6f9c6e8d4611ac39b4f3c603753e": {
          "model_module": "@jupyter-widgets/base",
          "model_name": "LayoutModel",
          "model_module_version": "1.2.0",
          "state": {
            "_view_name": "LayoutView",
            "grid_template_rows": null,
            "right": null,
            "justify_content": null,
            "_view_module": "@jupyter-widgets/base",
            "overflow": null,
            "_model_module_version": "1.2.0",
            "_view_count": null,
            "flex_flow": null,
            "width": null,
            "min_width": null,
            "border": null,
            "align_items": null,
            "bottom": null,
            "_model_module": "@jupyter-widgets/base",
            "top": null,
            "grid_column": null,
            "overflow_y": null,
            "overflow_x": null,
            "grid_auto_flow": null,
            "grid_area": null,
            "grid_template_columns": null,
            "flex": null,
            "_model_name": "LayoutModel",
            "justify_items": null,
            "grid_row": null,
            "max_height": null,
            "align_content": null,
            "visibility": null,
            "align_self": null,
            "height": null,
            "min_height": null,
            "padding": null,
            "grid_auto_rows": null,
            "grid_gap": null,
            "max_width": null,
            "order": null,
            "_view_module_version": "1.2.0",
            "grid_template_areas": null,
            "object_position": null,
            "object_fit": null,
            "grid_auto_columns": null,
            "margin": null,
            "display": null,
            "left": null
          }
        },
        "b6b268370d0c499a836560f3b3fabaea": {
          "model_module": "@jupyter-widgets/controls",
          "model_name": "ProgressStyleModel",
          "model_module_version": "1.5.0",
          "state": {
            "_view_name": "StyleView",
            "_model_name": "ProgressStyleModel",
            "description_width": "",
            "_view_module": "@jupyter-widgets/base",
            "_model_module_version": "1.5.0",
            "_view_count": null,
            "_view_module_version": "1.2.0",
            "bar_color": null,
            "_model_module": "@jupyter-widgets/controls"
          }
        },
        "0e6ca9d6ca8e455ea041cbeda0cc9d77": {
          "model_module": "@jupyter-widgets/base",
          "model_name": "LayoutModel",
          "model_module_version": "1.2.0",
          "state": {
            "_view_name": "LayoutView",
            "grid_template_rows": null,
            "right": null,
            "justify_content": null,
            "_view_module": "@jupyter-widgets/base",
            "overflow": null,
            "_model_module_version": "1.2.0",
            "_view_count": null,
            "flex_flow": null,
            "width": null,
            "min_width": null,
            "border": null,
            "align_items": null,
            "bottom": null,
            "_model_module": "@jupyter-widgets/base",
            "top": null,
            "grid_column": null,
            "overflow_y": null,
            "overflow_x": null,
            "grid_auto_flow": null,
            "grid_area": null,
            "grid_template_columns": null,
            "flex": null,
            "_model_name": "LayoutModel",
            "justify_items": null,
            "grid_row": null,
            "max_height": null,
            "align_content": null,
            "visibility": null,
            "align_self": null,
            "height": null,
            "min_height": null,
            "padding": null,
            "grid_auto_rows": null,
            "grid_gap": null,
            "max_width": null,
            "order": null,
            "_view_module_version": "1.2.0",
            "grid_template_areas": null,
            "object_position": null,
            "object_fit": null,
            "grid_auto_columns": null,
            "margin": null,
            "display": null,
            "left": null
          }
        },
        "dfd4a6d841e34641887fec78f5fbee26": {
          "model_module": "@jupyter-widgets/controls",
          "model_name": "DescriptionStyleModel",
          "model_module_version": "1.5.0",
          "state": {
            "_view_name": "StyleView",
            "_model_name": "DescriptionStyleModel",
            "description_width": "",
            "_view_module": "@jupyter-widgets/base",
            "_model_module_version": "1.5.0",
            "_view_count": null,
            "_view_module_version": "1.2.0",
            "_model_module": "@jupyter-widgets/controls"
          }
        },
        "7027814b08614ef8b5f967d725ee4034": {
          "model_module": "@jupyter-widgets/base",
          "model_name": "LayoutModel",
          "model_module_version": "1.2.0",
          "state": {
            "_view_name": "LayoutView",
            "grid_template_rows": null,
            "right": null,
            "justify_content": null,
            "_view_module": "@jupyter-widgets/base",
            "overflow": null,
            "_model_module_version": "1.2.0",
            "_view_count": null,
            "flex_flow": null,
            "width": null,
            "min_width": null,
            "border": null,
            "align_items": null,
            "bottom": null,
            "_model_module": "@jupyter-widgets/base",
            "top": null,
            "grid_column": null,
            "overflow_y": null,
            "overflow_x": null,
            "grid_auto_flow": null,
            "grid_area": null,
            "grid_template_columns": null,
            "flex": null,
            "_model_name": "LayoutModel",
            "justify_items": null,
            "grid_row": null,
            "max_height": null,
            "align_content": null,
            "visibility": null,
            "align_self": null,
            "height": null,
            "min_height": null,
            "padding": null,
            "grid_auto_rows": null,
            "grid_gap": null,
            "max_width": null,
            "order": null,
            "_view_module_version": "1.2.0",
            "grid_template_areas": null,
            "object_position": null,
            "object_fit": null,
            "grid_auto_columns": null,
            "margin": null,
            "display": null,
            "left": null
          }
        },
        "7e346273790b42138704b91ca402ab75": {
          "model_module": "@jupyter-widgets/controls",
          "model_name": "HBoxModel",
          "model_module_version": "1.5.0",
          "state": {
            "_view_name": "HBoxView",
            "_dom_classes": [],
            "_model_name": "HBoxModel",
            "_view_module": "@jupyter-widgets/controls",
            "_model_module_version": "1.5.0",
            "_view_count": null,
            "_view_module_version": "1.5.0",
            "box_style": "",
            "layout": "IPY_MODEL_03ed551e44f6413c90c84a6e84201712",
            "_model_module": "@jupyter-widgets/controls",
            "children": [
              "IPY_MODEL_e7d227efabe140dc81ec2301fb91a13a",
              "IPY_MODEL_b0988066c1c44a0c957dda8d10115ff9",
              "IPY_MODEL_86c448353d9e4a55b4dd2516c74f7048"
            ]
          }
        },
        "03ed551e44f6413c90c84a6e84201712": {
          "model_module": "@jupyter-widgets/base",
          "model_name": "LayoutModel",
          "model_module_version": "1.2.0",
          "state": {
            "_view_name": "LayoutView",
            "grid_template_rows": null,
            "right": null,
            "justify_content": null,
            "_view_module": "@jupyter-widgets/base",
            "overflow": null,
            "_model_module_version": "1.2.0",
            "_view_count": null,
            "flex_flow": null,
            "width": null,
            "min_width": null,
            "border": null,
            "align_items": null,
            "bottom": null,
            "_model_module": "@jupyter-widgets/base",
            "top": null,
            "grid_column": null,
            "overflow_y": null,
            "overflow_x": null,
            "grid_auto_flow": null,
            "grid_area": null,
            "grid_template_columns": null,
            "flex": null,
            "_model_name": "LayoutModel",
            "justify_items": null,
            "grid_row": null,
            "max_height": null,
            "align_content": null,
            "visibility": null,
            "align_self": null,
            "height": null,
            "min_height": null,
            "padding": null,
            "grid_auto_rows": null,
            "grid_gap": null,
            "max_width": null,
            "order": null,
            "_view_module_version": "1.2.0",
            "grid_template_areas": null,
            "object_position": null,
            "object_fit": null,
            "grid_auto_columns": null,
            "margin": null,
            "display": null,
            "left": null
          }
        },
        "e7d227efabe140dc81ec2301fb91a13a": {
          "model_module": "@jupyter-widgets/controls",
          "model_name": "HTMLModel",
          "model_module_version": "1.5.0",
          "state": {
            "_view_name": "HTMLView",
            "style": "IPY_MODEL_0afd522bdc014410ae834f746f8a86c8",
            "_dom_classes": [],
            "description": "",
            "_model_name": "HTMLModel",
            "placeholder": "​",
            "_view_module": "@jupyter-widgets/controls",
            "_model_module_version": "1.5.0",
            "value": "Downloading: 100%",
            "_view_count": null,
            "_view_module_version": "1.5.0",
            "description_tooltip": null,
            "_model_module": "@jupyter-widgets/controls",
            "layout": "IPY_MODEL_93d2c9727e014b1c8d88d66c6f4ee52e"
          }
        },
        "b0988066c1c44a0c957dda8d10115ff9": {
          "model_module": "@jupyter-widgets/controls",
          "model_name": "FloatProgressModel",
          "model_module_version": "1.5.0",
          "state": {
            "_view_name": "ProgressView",
            "style": "IPY_MODEL_2bdae75d19304d848224f190dd657500",
            "_dom_classes": [],
            "description": "",
            "_model_name": "FloatProgressModel",
            "bar_style": "success",
            "max": 176,
            "_view_module": "@jupyter-widgets/controls",
            "_model_module_version": "1.5.0",
            "value": 176,
            "_view_count": null,
            "_view_module_version": "1.5.0",
            "orientation": "horizontal",
            "min": 0,
            "description_tooltip": null,
            "_model_module": "@jupyter-widgets/controls",
            "layout": "IPY_MODEL_d2d3bdb2f88f4852b6ab7833ce888d93"
          }
        },
        "86c448353d9e4a55b4dd2516c74f7048": {
          "model_module": "@jupyter-widgets/controls",
          "model_name": "HTMLModel",
          "model_module_version": "1.5.0",
          "state": {
            "_view_name": "HTMLView",
            "style": "IPY_MODEL_a3604a2b37e64eecafd5686d0a9c4240",
            "_dom_classes": [],
            "description": "",
            "_model_name": "HTMLModel",
            "placeholder": "​",
            "_view_module": "@jupyter-widgets/controls",
            "_model_module_version": "1.5.0",
            "value": " 176/176 [00:00&lt;00:00, 3.92kB/s]",
            "_view_count": null,
            "_view_module_version": "1.5.0",
            "description_tooltip": null,
            "_model_module": "@jupyter-widgets/controls",
            "layout": "IPY_MODEL_07ed7e5116644edfaa10ec3e7209529a"
          }
        },
        "0afd522bdc014410ae834f746f8a86c8": {
          "model_module": "@jupyter-widgets/controls",
          "model_name": "DescriptionStyleModel",
          "model_module_version": "1.5.0",
          "state": {
            "_view_name": "StyleView",
            "_model_name": "DescriptionStyleModel",
            "description_width": "",
            "_view_module": "@jupyter-widgets/base",
            "_model_module_version": "1.5.0",
            "_view_count": null,
            "_view_module_version": "1.2.0",
            "_model_module": "@jupyter-widgets/controls"
          }
        },
        "93d2c9727e014b1c8d88d66c6f4ee52e": {
          "model_module": "@jupyter-widgets/base",
          "model_name": "LayoutModel",
          "model_module_version": "1.2.0",
          "state": {
            "_view_name": "LayoutView",
            "grid_template_rows": null,
            "right": null,
            "justify_content": null,
            "_view_module": "@jupyter-widgets/base",
            "overflow": null,
            "_model_module_version": "1.2.0",
            "_view_count": null,
            "flex_flow": null,
            "width": null,
            "min_width": null,
            "border": null,
            "align_items": null,
            "bottom": null,
            "_model_module": "@jupyter-widgets/base",
            "top": null,
            "grid_column": null,
            "overflow_y": null,
            "overflow_x": null,
            "grid_auto_flow": null,
            "grid_area": null,
            "grid_template_columns": null,
            "flex": null,
            "_model_name": "LayoutModel",
            "justify_items": null,
            "grid_row": null,
            "max_height": null,
            "align_content": null,
            "visibility": null,
            "align_self": null,
            "height": null,
            "min_height": null,
            "padding": null,
            "grid_auto_rows": null,
            "grid_gap": null,
            "max_width": null,
            "order": null,
            "_view_module_version": "1.2.0",
            "grid_template_areas": null,
            "object_position": null,
            "object_fit": null,
            "grid_auto_columns": null,
            "margin": null,
            "display": null,
            "left": null
          }
        },
        "2bdae75d19304d848224f190dd657500": {
          "model_module": "@jupyter-widgets/controls",
          "model_name": "ProgressStyleModel",
          "model_module_version": "1.5.0",
          "state": {
            "_view_name": "StyleView",
            "_model_name": "ProgressStyleModel",
            "description_width": "",
            "_view_module": "@jupyter-widgets/base",
            "_model_module_version": "1.5.0",
            "_view_count": null,
            "_view_module_version": "1.2.0",
            "bar_color": null,
            "_model_module": "@jupyter-widgets/controls"
          }
        },
        "d2d3bdb2f88f4852b6ab7833ce888d93": {
          "model_module": "@jupyter-widgets/base",
          "model_name": "LayoutModel",
          "model_module_version": "1.2.0",
          "state": {
            "_view_name": "LayoutView",
            "grid_template_rows": null,
            "right": null,
            "justify_content": null,
            "_view_module": "@jupyter-widgets/base",
            "overflow": null,
            "_model_module_version": "1.2.0",
            "_view_count": null,
            "flex_flow": null,
            "width": null,
            "min_width": null,
            "border": null,
            "align_items": null,
            "bottom": null,
            "_model_module": "@jupyter-widgets/base",
            "top": null,
            "grid_column": null,
            "overflow_y": null,
            "overflow_x": null,
            "grid_auto_flow": null,
            "grid_area": null,
            "grid_template_columns": null,
            "flex": null,
            "_model_name": "LayoutModel",
            "justify_items": null,
            "grid_row": null,
            "max_height": null,
            "align_content": null,
            "visibility": null,
            "align_self": null,
            "height": null,
            "min_height": null,
            "padding": null,
            "grid_auto_rows": null,
            "grid_gap": null,
            "max_width": null,
            "order": null,
            "_view_module_version": "1.2.0",
            "grid_template_areas": null,
            "object_position": null,
            "object_fit": null,
            "grid_auto_columns": null,
            "margin": null,
            "display": null,
            "left": null
          }
        },
        "a3604a2b37e64eecafd5686d0a9c4240": {
          "model_module": "@jupyter-widgets/controls",
          "model_name": "DescriptionStyleModel",
          "model_module_version": "1.5.0",
          "state": {
            "_view_name": "StyleView",
            "_model_name": "DescriptionStyleModel",
            "description_width": "",
            "_view_module": "@jupyter-widgets/base",
            "_model_module_version": "1.5.0",
            "_view_count": null,
            "_view_module_version": "1.2.0",
            "_model_module": "@jupyter-widgets/controls"
          }
        },
        "07ed7e5116644edfaa10ec3e7209529a": {
          "model_module": "@jupyter-widgets/base",
          "model_name": "LayoutModel",
          "model_module_version": "1.2.0",
          "state": {
            "_view_name": "LayoutView",
            "grid_template_rows": null,
            "right": null,
            "justify_content": null,
            "_view_module": "@jupyter-widgets/base",
            "overflow": null,
            "_model_module_version": "1.2.0",
            "_view_count": null,
            "flex_flow": null,
            "width": null,
            "min_width": null,
            "border": null,
            "align_items": null,
            "bottom": null,
            "_model_module": "@jupyter-widgets/base",
            "top": null,
            "grid_column": null,
            "overflow_y": null,
            "overflow_x": null,
            "grid_auto_flow": null,
            "grid_area": null,
            "grid_template_columns": null,
            "flex": null,
            "_model_name": "LayoutModel",
            "justify_items": null,
            "grid_row": null,
            "max_height": null,
            "align_content": null,
            "visibility": null,
            "align_self": null,
            "height": null,
            "min_height": null,
            "padding": null,
            "grid_auto_rows": null,
            "grid_gap": null,
            "max_width": null,
            "order": null,
            "_view_module_version": "1.2.0",
            "grid_template_areas": null,
            "object_position": null,
            "object_fit": null,
            "grid_auto_columns": null,
            "margin": null,
            "display": null,
            "left": null
          }
        },
        "47f6e3873b2c4abea09f6063f0898d25": {
          "model_module": "@jupyter-widgets/controls",
          "model_name": "HBoxModel",
          "model_module_version": "1.5.0",
          "state": {
            "_view_name": "HBoxView",
            "_dom_classes": [],
            "_model_name": "HBoxModel",
            "_view_module": "@jupyter-widgets/controls",
            "_model_module_version": "1.5.0",
            "_view_count": null,
            "_view_module_version": "1.5.0",
            "box_style": "",
            "layout": "IPY_MODEL_6a62d26d3a7845449062cd99fec10d17",
            "_model_module": "@jupyter-widgets/controls",
            "children": [
              "IPY_MODEL_4208117344f0470587b6376afb7a6340",
              "IPY_MODEL_67956ab338a54c719ca23c94828208c6",
              "IPY_MODEL_c03ead12aa3849da865cf0f38414f287"
            ]
          }
        },
        "6a62d26d3a7845449062cd99fec10d17": {
          "model_module": "@jupyter-widgets/base",
          "model_name": "LayoutModel",
          "model_module_version": "1.2.0",
          "state": {
            "_view_name": "LayoutView",
            "grid_template_rows": null,
            "right": null,
            "justify_content": null,
            "_view_module": "@jupyter-widgets/base",
            "overflow": null,
            "_model_module_version": "1.2.0",
            "_view_count": null,
            "flex_flow": null,
            "width": null,
            "min_width": null,
            "border": null,
            "align_items": null,
            "bottom": null,
            "_model_module": "@jupyter-widgets/base",
            "top": null,
            "grid_column": null,
            "overflow_y": null,
            "overflow_x": null,
            "grid_auto_flow": null,
            "grid_area": null,
            "grid_template_columns": null,
            "flex": null,
            "_model_name": "LayoutModel",
            "justify_items": null,
            "grid_row": null,
            "max_height": null,
            "align_content": null,
            "visibility": null,
            "align_self": null,
            "height": null,
            "min_height": null,
            "padding": null,
            "grid_auto_rows": null,
            "grid_gap": null,
            "max_width": null,
            "order": null,
            "_view_module_version": "1.2.0",
            "grid_template_areas": null,
            "object_position": null,
            "object_fit": null,
            "grid_auto_columns": null,
            "margin": null,
            "display": null,
            "left": null
          }
        },
        "4208117344f0470587b6376afb7a6340": {
          "model_module": "@jupyter-widgets/controls",
          "model_name": "HTMLModel",
          "model_module_version": "1.5.0",
          "state": {
            "_view_name": "HTMLView",
            "style": "IPY_MODEL_1ab15515cd7448eeaa3fc4938cff0429",
            "_dom_classes": [],
            "description": "",
            "_model_name": "HTMLModel",
            "placeholder": "​",
            "_view_module": "@jupyter-widgets/controls",
            "_model_module_version": "1.5.0",
            "value": "Downloading: 100%",
            "_view_count": null,
            "_view_module_version": "1.5.0",
            "description_tooltip": null,
            "_model_module": "@jupyter-widgets/controls",
            "layout": "IPY_MODEL_909df04e0b61489396ef81750427f32a"
          }
        },
        "67956ab338a54c719ca23c94828208c6": {
          "model_module": "@jupyter-widgets/controls",
          "model_name": "FloatProgressModel",
          "model_module_version": "1.5.0",
          "state": {
            "_view_name": "ProgressView",
            "style": "IPY_MODEL_808d1f715c43432282f91a7d299efe3a",
            "_dom_classes": [],
            "description": "",
            "_model_name": "FloatProgressModel",
            "bar_style": "success",
            "max": 620,
            "_view_module": "@jupyter-widgets/controls",
            "_model_module_version": "1.5.0",
            "value": 620,
            "_view_count": null,
            "_view_module_version": "1.5.0",
            "orientation": "horizontal",
            "min": 0,
            "description_tooltip": null,
            "_model_module": "@jupyter-widgets/controls",
            "layout": "IPY_MODEL_4db4047bd6f8489fb45fa60eda7b9dc1"
          }
        },
        "c03ead12aa3849da865cf0f38414f287": {
          "model_module": "@jupyter-widgets/controls",
          "model_name": "HTMLModel",
          "model_module_version": "1.5.0",
          "state": {
            "_view_name": "HTMLView",
            "style": "IPY_MODEL_6b2a8e2a8cc143a783819e590008bb5b",
            "_dom_classes": [],
            "description": "",
            "_model_name": "HTMLModel",
            "placeholder": "​",
            "_view_module": "@jupyter-widgets/controls",
            "_model_module_version": "1.5.0",
            "value": " 620/620 [00:00&lt;00:00, 14.6kB/s]",
            "_view_count": null,
            "_view_module_version": "1.5.0",
            "description_tooltip": null,
            "_model_module": "@jupyter-widgets/controls",
            "layout": "IPY_MODEL_0c2e863d035c468bb02c9aacb55a1afa"
          }
        },
        "1ab15515cd7448eeaa3fc4938cff0429": {
          "model_module": "@jupyter-widgets/controls",
          "model_name": "DescriptionStyleModel",
          "model_module_version": "1.5.0",
          "state": {
            "_view_name": "StyleView",
            "_model_name": "DescriptionStyleModel",
            "description_width": "",
            "_view_module": "@jupyter-widgets/base",
            "_model_module_version": "1.5.0",
            "_view_count": null,
            "_view_module_version": "1.2.0",
            "_model_module": "@jupyter-widgets/controls"
          }
        },
        "909df04e0b61489396ef81750427f32a": {
          "model_module": "@jupyter-widgets/base",
          "model_name": "LayoutModel",
          "model_module_version": "1.2.0",
          "state": {
            "_view_name": "LayoutView",
            "grid_template_rows": null,
            "right": null,
            "justify_content": null,
            "_view_module": "@jupyter-widgets/base",
            "overflow": null,
            "_model_module_version": "1.2.0",
            "_view_count": null,
            "flex_flow": null,
            "width": null,
            "min_width": null,
            "border": null,
            "align_items": null,
            "bottom": null,
            "_model_module": "@jupyter-widgets/base",
            "top": null,
            "grid_column": null,
            "overflow_y": null,
            "overflow_x": null,
            "grid_auto_flow": null,
            "grid_area": null,
            "grid_template_columns": null,
            "flex": null,
            "_model_name": "LayoutModel",
            "justify_items": null,
            "grid_row": null,
            "max_height": null,
            "align_content": null,
            "visibility": null,
            "align_self": null,
            "height": null,
            "min_height": null,
            "padding": null,
            "grid_auto_rows": null,
            "grid_gap": null,
            "max_width": null,
            "order": null,
            "_view_module_version": "1.2.0",
            "grid_template_areas": null,
            "object_position": null,
            "object_fit": null,
            "grid_auto_columns": null,
            "margin": null,
            "display": null,
            "left": null
          }
        },
        "808d1f715c43432282f91a7d299efe3a": {
          "model_module": "@jupyter-widgets/controls",
          "model_name": "ProgressStyleModel",
          "model_module_version": "1.5.0",
          "state": {
            "_view_name": "StyleView",
            "_model_name": "ProgressStyleModel",
            "description_width": "",
            "_view_module": "@jupyter-widgets/base",
            "_model_module_version": "1.5.0",
            "_view_count": null,
            "_view_module_version": "1.2.0",
            "bar_color": null,
            "_model_module": "@jupyter-widgets/controls"
          }
        },
        "4db4047bd6f8489fb45fa60eda7b9dc1": {
          "model_module": "@jupyter-widgets/base",
          "model_name": "LayoutModel",
          "model_module_version": "1.2.0",
          "state": {
            "_view_name": "LayoutView",
            "grid_template_rows": null,
            "right": null,
            "justify_content": null,
            "_view_module": "@jupyter-widgets/base",
            "overflow": null,
            "_model_module_version": "1.2.0",
            "_view_count": null,
            "flex_flow": null,
            "width": null,
            "min_width": null,
            "border": null,
            "align_items": null,
            "bottom": null,
            "_model_module": "@jupyter-widgets/base",
            "top": null,
            "grid_column": null,
            "overflow_y": null,
            "overflow_x": null,
            "grid_auto_flow": null,
            "grid_area": null,
            "grid_template_columns": null,
            "flex": null,
            "_model_name": "LayoutModel",
            "justify_items": null,
            "grid_row": null,
            "max_height": null,
            "align_content": null,
            "visibility": null,
            "align_self": null,
            "height": null,
            "min_height": null,
            "padding": null,
            "grid_auto_rows": null,
            "grid_gap": null,
            "max_width": null,
            "order": null,
            "_view_module_version": "1.2.0",
            "grid_template_areas": null,
            "object_position": null,
            "object_fit": null,
            "grid_auto_columns": null,
            "margin": null,
            "display": null,
            "left": null
          }
        },
        "6b2a8e2a8cc143a783819e590008bb5b": {
          "model_module": "@jupyter-widgets/controls",
          "model_name": "DescriptionStyleModel",
          "model_module_version": "1.5.0",
          "state": {
            "_view_name": "StyleView",
            "_model_name": "DescriptionStyleModel",
            "description_width": "",
            "_view_module": "@jupyter-widgets/base",
            "_model_module_version": "1.5.0",
            "_view_count": null,
            "_view_module_version": "1.2.0",
            "_model_module": "@jupyter-widgets/controls"
          }
        },
        "0c2e863d035c468bb02c9aacb55a1afa": {
          "model_module": "@jupyter-widgets/base",
          "model_name": "LayoutModel",
          "model_module_version": "1.2.0",
          "state": {
            "_view_name": "LayoutView",
            "grid_template_rows": null,
            "right": null,
            "justify_content": null,
            "_view_module": "@jupyter-widgets/base",
            "overflow": null,
            "_model_module_version": "1.2.0",
            "_view_count": null,
            "flex_flow": null,
            "width": null,
            "min_width": null,
            "border": null,
            "align_items": null,
            "bottom": null,
            "_model_module": "@jupyter-widgets/base",
            "top": null,
            "grid_column": null,
            "overflow_y": null,
            "overflow_x": null,
            "grid_auto_flow": null,
            "grid_area": null,
            "grid_template_columns": null,
            "flex": null,
            "_model_name": "LayoutModel",
            "justify_items": null,
            "grid_row": null,
            "max_height": null,
            "align_content": null,
            "visibility": null,
            "align_self": null,
            "height": null,
            "min_height": null,
            "padding": null,
            "grid_auto_rows": null,
            "grid_gap": null,
            "max_width": null,
            "order": null,
            "_view_module_version": "1.2.0",
            "grid_template_areas": null,
            "object_position": null,
            "object_fit": null,
            "grid_auto_columns": null,
            "margin": null,
            "display": null,
            "left": null
          }
        },
        "8f4fdafd65d94ba28e9ff472cfe01a02": {
          "model_module": "@jupyter-widgets/controls",
          "model_name": "HBoxModel",
          "model_module_version": "1.5.0",
          "state": {
            "_view_name": "HBoxView",
            "_dom_classes": [],
            "_model_name": "HBoxModel",
            "_view_module": "@jupyter-widgets/controls",
            "_model_module_version": "1.5.0",
            "_view_count": null,
            "_view_module_version": "1.5.0",
            "box_style": "",
            "layout": "IPY_MODEL_b52531f7f80b4e3e81c1d0117a0f5b69",
            "_model_module": "@jupyter-widgets/controls",
            "children": [
              "IPY_MODEL_f7ab52e4ec274966ad63ac200d03242b",
              "IPY_MODEL_427399d7bf87460d9eea0e6d69b3fb8a",
              "IPY_MODEL_fc1a0b29ca1e4a37bae5d96e03bb7c9a"
            ]
          }
        },
        "b52531f7f80b4e3e81c1d0117a0f5b69": {
          "model_module": "@jupyter-widgets/base",
          "model_name": "LayoutModel",
          "model_module_version": "1.2.0",
          "state": {
            "_view_name": "LayoutView",
            "grid_template_rows": null,
            "right": null,
            "justify_content": null,
            "_view_module": "@jupyter-widgets/base",
            "overflow": null,
            "_model_module_version": "1.2.0",
            "_view_count": null,
            "flex_flow": null,
            "width": null,
            "min_width": null,
            "border": null,
            "align_items": null,
            "bottom": null,
            "_model_module": "@jupyter-widgets/base",
            "top": null,
            "grid_column": null,
            "overflow_y": null,
            "overflow_x": null,
            "grid_auto_flow": null,
            "grid_area": null,
            "grid_template_columns": null,
            "flex": null,
            "_model_name": "LayoutModel",
            "justify_items": null,
            "grid_row": null,
            "max_height": null,
            "align_content": null,
            "visibility": null,
            "align_self": null,
            "height": null,
            "min_height": null,
            "padding": null,
            "grid_auto_rows": null,
            "grid_gap": null,
            "max_width": null,
            "order": null,
            "_view_module_version": "1.2.0",
            "grid_template_areas": null,
            "object_position": null,
            "object_fit": null,
            "grid_auto_columns": null,
            "margin": null,
            "display": null,
            "left": null
          }
        },
        "f7ab52e4ec274966ad63ac200d03242b": {
          "model_module": "@jupyter-widgets/controls",
          "model_name": "HTMLModel",
          "model_module_version": "1.5.0",
          "state": {
            "_view_name": "HTMLView",
            "style": "IPY_MODEL_1e1d3074465a4fae95df4a4658f1da07",
            "_dom_classes": [],
            "description": "",
            "_model_name": "HTMLModel",
            "placeholder": "​",
            "_view_module": "@jupyter-widgets/controls",
            "_model_module_version": "1.5.0",
            "value": "Downloading: 100%",
            "_view_count": null,
            "_view_module_version": "1.5.0",
            "description_tooltip": null,
            "_model_module": "@jupyter-widgets/controls",
            "layout": "IPY_MODEL_e8b0312332574da79dd01c191b30c34d"
          }
        },
        "427399d7bf87460d9eea0e6d69b3fb8a": {
          "model_module": "@jupyter-widgets/controls",
          "model_name": "FloatProgressModel",
          "model_module_version": "1.5.0",
          "state": {
            "_view_name": "ProgressView",
            "style": "IPY_MODEL_8f053deac3f74ca285bcc3af45ad6957",
            "_dom_classes": [],
            "description": "",
            "_model_name": "FloatProgressModel",
            "bar_style": "success",
            "max": 498061650,
            "_view_module": "@jupyter-widgets/controls",
            "_model_module_version": "1.5.0",
            "value": 498061650,
            "_view_count": null,
            "_view_module_version": "1.5.0",
            "orientation": "horizontal",
            "min": 0,
            "description_tooltip": null,
            "_model_module": "@jupyter-widgets/controls",
            "layout": "IPY_MODEL_39b8ab740a9f4147813e7352b91bd8a0"
          }
        },
        "fc1a0b29ca1e4a37bae5d96e03bb7c9a": {
          "model_module": "@jupyter-widgets/controls",
          "model_name": "HTMLModel",
          "model_module_version": "1.5.0",
          "state": {
            "_view_name": "HTMLView",
            "style": "IPY_MODEL_40a580fdd2d5481e9144f7f23fd70c6e",
            "_dom_classes": [],
            "description": "",
            "_model_name": "HTMLModel",
            "placeholder": "​",
            "_view_module": "@jupyter-widgets/controls",
            "_model_module_version": "1.5.0",
            "value": " 475M/475M [00:14&lt;00:00, 38.5MB/s]",
            "_view_count": null,
            "_view_module_version": "1.5.0",
            "description_tooltip": null,
            "_model_module": "@jupyter-widgets/controls",
            "layout": "IPY_MODEL_edec144ed2144c769249ce3249af27e1"
          }
        },
        "1e1d3074465a4fae95df4a4658f1da07": {
          "model_module": "@jupyter-widgets/controls",
          "model_name": "DescriptionStyleModel",
          "model_module_version": "1.5.0",
          "state": {
            "_view_name": "StyleView",
            "_model_name": "DescriptionStyleModel",
            "description_width": "",
            "_view_module": "@jupyter-widgets/base",
            "_model_module_version": "1.5.0",
            "_view_count": null,
            "_view_module_version": "1.2.0",
            "_model_module": "@jupyter-widgets/controls"
          }
        },
        "e8b0312332574da79dd01c191b30c34d": {
          "model_module": "@jupyter-widgets/base",
          "model_name": "LayoutModel",
          "model_module_version": "1.2.0",
          "state": {
            "_view_name": "LayoutView",
            "grid_template_rows": null,
            "right": null,
            "justify_content": null,
            "_view_module": "@jupyter-widgets/base",
            "overflow": null,
            "_model_module_version": "1.2.0",
            "_view_count": null,
            "flex_flow": null,
            "width": null,
            "min_width": null,
            "border": null,
            "align_items": null,
            "bottom": null,
            "_model_module": "@jupyter-widgets/base",
            "top": null,
            "grid_column": null,
            "overflow_y": null,
            "overflow_x": null,
            "grid_auto_flow": null,
            "grid_area": null,
            "grid_template_columns": null,
            "flex": null,
            "_model_name": "LayoutModel",
            "justify_items": null,
            "grid_row": null,
            "max_height": null,
            "align_content": null,
            "visibility": null,
            "align_self": null,
            "height": null,
            "min_height": null,
            "padding": null,
            "grid_auto_rows": null,
            "grid_gap": null,
            "max_width": null,
            "order": null,
            "_view_module_version": "1.2.0",
            "grid_template_areas": null,
            "object_position": null,
            "object_fit": null,
            "grid_auto_columns": null,
            "margin": null,
            "display": null,
            "left": null
          }
        },
        "8f053deac3f74ca285bcc3af45ad6957": {
          "model_module": "@jupyter-widgets/controls",
          "model_name": "ProgressStyleModel",
          "model_module_version": "1.5.0",
          "state": {
            "_view_name": "StyleView",
            "_model_name": "ProgressStyleModel",
            "description_width": "",
            "_view_module": "@jupyter-widgets/base",
            "_model_module_version": "1.5.0",
            "_view_count": null,
            "_view_module_version": "1.2.0",
            "bar_color": null,
            "_model_module": "@jupyter-widgets/controls"
          }
        },
        "39b8ab740a9f4147813e7352b91bd8a0": {
          "model_module": "@jupyter-widgets/base",
          "model_name": "LayoutModel",
          "model_module_version": "1.2.0",
          "state": {
            "_view_name": "LayoutView",
            "grid_template_rows": null,
            "right": null,
            "justify_content": null,
            "_view_module": "@jupyter-widgets/base",
            "overflow": null,
            "_model_module_version": "1.2.0",
            "_view_count": null,
            "flex_flow": null,
            "width": null,
            "min_width": null,
            "border": null,
            "align_items": null,
            "bottom": null,
            "_model_module": "@jupyter-widgets/base",
            "top": null,
            "grid_column": null,
            "overflow_y": null,
            "overflow_x": null,
            "grid_auto_flow": null,
            "grid_area": null,
            "grid_template_columns": null,
            "flex": null,
            "_model_name": "LayoutModel",
            "justify_items": null,
            "grid_row": null,
            "max_height": null,
            "align_content": null,
            "visibility": null,
            "align_self": null,
            "height": null,
            "min_height": null,
            "padding": null,
            "grid_auto_rows": null,
            "grid_gap": null,
            "max_width": null,
            "order": null,
            "_view_module_version": "1.2.0",
            "grid_template_areas": null,
            "object_position": null,
            "object_fit": null,
            "grid_auto_columns": null,
            "margin": null,
            "display": null,
            "left": null
          }
        },
        "40a580fdd2d5481e9144f7f23fd70c6e": {
          "model_module": "@jupyter-widgets/controls",
          "model_name": "DescriptionStyleModel",
          "model_module_version": "1.5.0",
          "state": {
            "_view_name": "StyleView",
            "_model_name": "DescriptionStyleModel",
            "description_width": "",
            "_view_module": "@jupyter-widgets/base",
            "_model_module_version": "1.5.0",
            "_view_count": null,
            "_view_module_version": "1.2.0",
            "_model_module": "@jupyter-widgets/controls"
          }
        },
        "edec144ed2144c769249ce3249af27e1": {
          "model_module": "@jupyter-widgets/base",
          "model_name": "LayoutModel",
          "model_module_version": "1.2.0",
          "state": {
            "_view_name": "LayoutView",
            "grid_template_rows": null,
            "right": null,
            "justify_content": null,
            "_view_module": "@jupyter-widgets/base",
            "overflow": null,
            "_model_module_version": "1.2.0",
            "_view_count": null,
            "flex_flow": null,
            "width": null,
            "min_width": null,
            "border": null,
            "align_items": null,
            "bottom": null,
            "_model_module": "@jupyter-widgets/base",
            "top": null,
            "grid_column": null,
            "overflow_y": null,
            "overflow_x": null,
            "grid_auto_flow": null,
            "grid_area": null,
            "grid_template_columns": null,
            "flex": null,
            "_model_name": "LayoutModel",
            "justify_items": null,
            "grid_row": null,
            "max_height": null,
            "align_content": null,
            "visibility": null,
            "align_self": null,
            "height": null,
            "min_height": null,
            "padding": null,
            "grid_auto_rows": null,
            "grid_gap": null,
            "max_width": null,
            "order": null,
            "_view_module_version": "1.2.0",
            "grid_template_areas": null,
            "object_position": null,
            "object_fit": null,
            "grid_auto_columns": null,
            "margin": null,
            "display": null,
            "left": null
          }
        }
      }
    }
  },
  "cells": [
    {
      "cell_type": "markdown",
      "metadata": {
        "id": "TdO2TVF3HIqT"
      },
      "source": [
        "# Finetuning DziriBERT for Dialect Detection"
      ]
    },
    {
      "cell_type": "markdown",
      "metadata": {
        "id": "DXQzKh7KmSVT"
      },
      "source": [
        "DziriBERT is a BERT language model trained and tested on 1.1 Million Algerian tweets, it was introduced in [this paper](https://arxiv.org/abs/2109.12346) and is available on the Hugging Face Model Hub in [this link](https://huggingface.co/alger-ia/dziribert), which means it is fairly easy to use and finetune the model. In this blog post i'll show how to finetune DziriBERT for dialect detection. The dataset i will be using is of one the [MSDA open datasets](https://msda.um6p.ma/msda_datasets), it contains tweets labelled by country-level dialect. All of the five dialects in this dataset have their roots in Arabic, which means that there are lots of similarities between them especially the ones that are geographically close (e.g. Moroccan and Algerian dialects)."
      ]
    },
    {
      "cell_type": "markdown",
      "metadata": {
        "id": "mTGyJhkT0LaJ"
      },
      "source": [
        "We start by installing the transformers library and importing what we need for the implementation."
      ]
    },
    {
      "cell_type": "code",
      "metadata": {
        "colab": {
          "base_uri": "https://localhost:8080/"
        },
        "id": "ZUVqCMvSRdY7",
        "outputId": "c88f5647-805a-4cea-bd73-66259e914553"
      },
      "source": [
        "!pip install -q transformers"
      ],
      "execution_count": null,
      "outputs": [
        {
          "output_type": "stream",
          "name": "stdout",
          "text": [
            "\u001b[K     |████████████████████████████████| 2.9 MB 5.1 MB/s \n",
            "\u001b[K     |████████████████████████████████| 895 kB 32.6 MB/s \n",
            "\u001b[K     |████████████████████████████████| 596 kB 56.7 MB/s \n",
            "\u001b[K     |████████████████████████████████| 3.3 MB 46.7 MB/s \n",
            "\u001b[K     |████████████████████████████████| 56 kB 4.0 MB/s \n",
            "\u001b[?25h"
          ]
        }
      ]
    },
    {
      "cell_type": "code",
      "metadata": {
        "id": "RAQdhJpCRSQF"
      },
      "source": [
        "import pandas as pd \n",
        "\n",
        "from sklearn.model_selection import train_test_split\n",
        "\n",
        "from pathlib import Path\n",
        "\n",
        "import torch\n",
        "from torch.utils.data import Dataset, DataLoader\n",
        "\n",
        "import transformers\n",
        "from transformers import AutoModel, BertTokenizerFast, AutoModelForSequenceClassification, Trainer, TrainingArguments"
      ],
      "execution_count": null,
      "outputs": []
    },
    {
      "cell_type": "code",
      "metadata": {
        "id": "zV_s-nBKREQ4",
        "colab": {
          "base_uri": "https://localhost:8080/"
        },
        "outputId": "bf07a33a-de07-489d-b0b1-a19761d1cad5"
      },
      "source": [
        "# mount colab\n",
        "from google.colab import drive \n",
        "drive.mount('/content/drive')"
      ],
      "execution_count": null,
      "outputs": [
        {
          "output_type": "stream",
          "name": "stdout",
          "text": [
            "Mounted at /content/drive\n"
          ]
        }
      ]
    },
    {
      "cell_type": "code",
      "metadata": {
        "id": "RZ7ePgQzRM2W"
      },
      "source": [
        "path = Path('/content/drive/MyDrive/ml/projects/msda_dataset/dialect')"
      ],
      "execution_count": null,
      "outputs": []
    },
    {
      "cell_type": "markdown",
      "metadata": {
        "id": "IxC6xaS5E99Z"
      },
      "source": [
        "### MSDA Dialect Detection Dataset"
      ]
    },
    {
      "cell_type": "markdown",
      "metadata": {
        "id": "OeG8WOas8GJk"
      },
      "source": [
        "The dataset is available as a csv file and can be found in [this link](https://msda.um6p.ma/msda_datasets). I want to mention that you can apply the finetuning process in this post on the other MSDA text classification datasets, you just might need to take into consideration that they are imbalanced.\n",
        "\n"
      ]
    },
    {
      "cell_type": "code",
      "metadata": {
        "id": "gU0QkttGRmpG",
        "colab": {
          "base_uri": "https://localhost:8080/",
          "height": 204
        },
        "outputId": "42873818-d500-4ca1-8372-375bbf93b7f9"
      },
      "source": [
        "df = pd.read_csv(path/'dialect.csv')\n",
        "df.tail()"
      ],
      "execution_count": null,
      "outputs": [
        {
          "output_type": "execute_result",
          "data": {
            "text/html": [
              "<div>\n",
              "<style scoped>\n",
              "    .dataframe tbody tr th:only-of-type {\n",
              "        vertical-align: middle;\n",
              "    }\n",
              "\n",
              "    .dataframe tbody tr th {\n",
              "        vertical-align: top;\n",
              "    }\n",
              "\n",
              "    .dataframe thead th {\n",
              "        text-align: right;\n",
              "    }\n",
              "</style>\n",
              "<table border=\"1\" class=\"dataframe\">\n",
              "  <thead>\n",
              "    <tr style=\"text-align: right;\">\n",
              "      <th></th>\n",
              "      <th>Twits</th>\n",
              "      <th>dialect</th>\n",
              "    </tr>\n",
              "  </thead>\n",
              "  <tbody>\n",
              "    <tr>\n",
              "      <th>53398</th>\n",
              "      <td>هاي باهي وليت تفهم في اللبسة متاع الرجال 🤔🤔</td>\n",
              "      <td>Tunisian</td>\n",
              "    </tr>\n",
              "    <tr>\n",
              "      <th>53399</th>\n",
              "      <td>ريي يصبر امها</td>\n",
              "      <td>Tunisian</td>\n",
              "    </tr>\n",
              "    <tr>\n",
              "      <th>53400</th>\n",
              "      <td>اللهم امين يارب العالمين ربي يصبر أهلهم</td>\n",
              "      <td>Tunisian</td>\n",
              "    </tr>\n",
              "    <tr>\n",
              "      <th>53401</th>\n",
              "      <td>اللهم امين يارب العالمين مخيبها عواشر لا حول و...</td>\n",
              "      <td>Tunisian</td>\n",
              "    </tr>\n",
              "    <tr>\n",
              "      <th>53402</th>\n",
              "      <td>لا حول ولا قوة الا بالله جريمة بشعة في wangen ...</td>\n",
              "      <td>Tunisian</td>\n",
              "    </tr>\n",
              "  </tbody>\n",
              "</table>\n",
              "</div>"
            ],
            "text/plain": [
              "                                                   Twits   dialect\n",
              "53398        هاي باهي وليت تفهم في اللبسة متاع الرجال 🤔🤔  Tunisian\n",
              "53399                                      ريي يصبر امها  Tunisian\n",
              "53400            اللهم امين يارب العالمين ربي يصبر أهلهم  Tunisian\n",
              "53401  اللهم امين يارب العالمين مخيبها عواشر لا حول و...  Tunisian\n",
              "53402  لا حول ولا قوة الا بالله جريمة بشعة في wangen ...  Tunisian"
            ]
          },
          "metadata": {},
          "execution_count": 6
        }
      ]
    },
    {
      "cell_type": "markdown",
      "metadata": {
        "id": "uQRCGitiHwEO"
      },
      "source": [
        "This is the number of training examples for each class in our dataset."
      ]
    },
    {
      "cell_type": "code",
      "metadata": {
        "id": "ZWx9G3k0TiJ7",
        "colab": {
          "base_uri": "https://localhost:8080/",
          "height": 331
        },
        "outputId": "019fe317-a347-4402-e884-8aa6bb6fbc1a"
      },
      "source": [
        "df.dialect.value_counts().plot.bar(x=df.dialect.unique(), title='Tweet Distribution')"
      ],
      "execution_count": null,
      "outputs": [
        {
          "output_type": "execute_result",
          "data": {
            "text/plain": [
              "<matplotlib.axes._subplots.AxesSubplot at 0x7ff349068d90>"
            ]
          },
          "metadata": {},
          "execution_count": 7
        },
        {
          "output_type": "display_data",
          "data": {
            "image/png": "[encoded data removed]",
            "text/plain": [
              "<Figure size 432x288 with 1 Axes>"
            ]
          },
          "metadata": {
            "needs_background": "light"
          }
        }
      ]
    },
    {
      "cell_type": "markdown",
      "metadata": {
        "id": "3vItuiYI-2bF"
      },
      "source": [
        "We encode the labels by mapping each dialect to an index."
      ]
    },
    {
      "cell_type": "code",
      "metadata": {
        "id": "xTtOmxMftK4m"
      },
      "source": [
        "dialects = df['dialect'].unique()\n",
        "\n",
        "lbl2idx = {d: i for i, d in enumerate(dialects)}\n",
        "\n",
        "df['dialect'] = df['dialect'].map(lbl2idx)"
      ],
      "execution_count": null,
      "outputs": []
    },
    {
      "cell_type": "code",
      "metadata": {
        "colab": {
          "base_uri": "https://localhost:8080/"
        },
        "id": "z_5m9o0YuQA0",
        "outputId": "55d5a18d-dbf1-4a9b-e423-cd556d8c2ddd"
      },
      "source": [
        "df['dialect'].unique()"
      ],
      "execution_count": null,
      "outputs": [
        {
          "output_type": "execute_result",
          "data": {
            "text/plain": [
              "array([0, 1, 2, 3, 4])"
            ]
          },
          "metadata": {},
          "execution_count": 9
        }
      ]
    },
    {
      "cell_type": "markdown",
      "metadata": {
        "id": "YxGQS3yV-_Zl"
      },
      "source": [
        "We split the dataset randomly, 70% will be used for training, and 30% for validation and testing of the model."
      ]
    },
    {
      "cell_type": "code",
      "metadata": {
        "colab": {
          "base_uri": "https://localhost:8080/"
        },
        "id": "viBB1TO4UHKN",
        "outputId": "ac3062da-543a-4afd-f0f2-92ae57b762e6"
      },
      "source": [
        "train_texts, temp_texts, train_labels, temp_labels = train_test_split(df['Twits'], df['dialect'], random_state=42, \n",
        "                                                                    test_size=0.3)\n",
        "\n",
        "val_texts, test_texts, val_labels, test_labels = train_test_split(temp_texts, temp_labels, random_state=42, \n",
        "                                                                test_size=0.5)\n",
        "\n",
        "len(train_texts), len(val_texts), len(test_texts)"
      ],
      "execution_count": null,
      "outputs": [
        {
          "output_type": "execute_result",
          "data": {
            "text/plain": [
              "(37382, 8010, 8011)"
            ]
          },
          "metadata": {},
          "execution_count": 10
        }
      ]
    },
    {
      "cell_type": "markdown",
      "metadata": {
        "id": "4tOhzmK3Wcb2"
      },
      "source": [
        "### DziriBERT tokenizer"
      ]
    },
    {
      "cell_type": "markdown",
      "metadata": {
        "id": "CYEMpzuI_vVr"
      },
      "source": [
        "We need to specify the name of the model on the Hugging Face Hub, we download first the pretrained DziriBERT tokenizer, which will take care of tokenizing and numeracalizing our sequences as DziriBERT model expects them."
      ]
    },
    {
      "cell_type": "code",
      "metadata": {
        "id": "HdfNKIn5Btew",
        "colab": {
          "base_uri": "https://localhost:8080/",
          "height": 113,
          "referenced_widgets": [
            "323561f198d14798845b63037bd8f996",
            "60428e6aca6646af888f21d1832077b9",
            "97e75fd431634c3c97fbd446c94687a6",
            "8f34e7dbb1d4423ab583b3f20e2112fb",
            "79df8fd4327e447792522503477e7ca8",
            "7c432af1e0b34d0ab97099ee7eab1e9e",
            "fb7b6f9c6e8d4611ac39b4f3c603753e",
            "b6b268370d0c499a836560f3b3fabaea",
            "0e6ca9d6ca8e455ea041cbeda0cc9d77",
            "dfd4a6d841e34641887fec78f5fbee26",
            "7027814b08614ef8b5f967d725ee4034",
            "7e346273790b42138704b91ca402ab75",
            "03ed551e44f6413c90c84a6e84201712",
            "e7d227efabe140dc81ec2301fb91a13a",
            "b0988066c1c44a0c957dda8d10115ff9",
            "86c448353d9e4a55b4dd2516c74f7048",
            "0afd522bdc014410ae834f746f8a86c8",
            "93d2c9727e014b1c8d88d66c6f4ee52e",
            "2bdae75d19304d848224f190dd657500",
            "d2d3bdb2f88f4852b6ab7833ce888d93",
            "a3604a2b37e64eecafd5686d0a9c4240",
            "07ed7e5116644edfaa10ec3e7209529a",
            "47f6e3873b2c4abea09f6063f0898d25",
            "6a62d26d3a7845449062cd99fec10d17",
            "4208117344f0470587b6376afb7a6340",
            "67956ab338a54c719ca23c94828208c6",
            "c03ead12aa3849da865cf0f38414f287",
            "1ab15515cd7448eeaa3fc4938cff0429",
            "909df04e0b61489396ef81750427f32a",
            "808d1f715c43432282f91a7d299efe3a",
            "4db4047bd6f8489fb45fa60eda7b9dc1",
            "6b2a8e2a8cc143a783819e590008bb5b",
            "0c2e863d035c468bb02c9aacb55a1afa"
          ]
        },
        "outputId": "f45dbba8-c4bf-45c1-b2c1-530eb20369c6"
      },
      "source": [
        "BERT_MODEL_NAME = 'alger-ia/dziribert'\n",
        "\n",
        "tokenizer = BertTokenizerFast.from_pretrained(BERT_MODEL_NAME)"
      ],
      "execution_count": null,
      "outputs": [
        {
          "output_type": "display_data",
          "data": {
            "application/vnd.jupyter.widget-view+json": {
              "model_id": "323561f198d14798845b63037bd8f996",
              "version_minor": 0,
              "version_major": 2
            },
            "text/plain": [
              "Downloading:   0%|          | 0.00/436k [00:00<?, ?B/s]"
            ]
          },
          "metadata": {}
        },
        {
          "output_type": "display_data",
          "data": {
            "application/vnd.jupyter.widget-view+json": {
              "model_id": "7e346273790b42138704b91ca402ab75",
              "version_minor": 0,
              "version_major": 2
            },
            "text/plain": [
              "Downloading:   0%|          | 0.00/176 [00:00<?, ?B/s]"
            ]
          },
          "metadata": {}
        },
        {
          "output_type": "display_data",
          "data": {
            "application/vnd.jupyter.widget-view+json": {
              "model_id": "47f6e3873b2c4abea09f6063f0898d25",
              "version_minor": 0,
              "version_major": 2
            },
            "text/plain": [
              "Downloading:   0%|          | 0.00/620 [00:00<?, ?B/s]"
            ]
          },
          "metadata": {}
        }
      ]
    },
    {
      "cell_type": "markdown",
      "metadata": {
        "id": "1HgYt7CCbNLJ"
      },
      "source": [
        "Tokenization is the process of splitting text into tokens, which can be words, characters or subwords. BERT uses an algorithm called [WordPiece](https://paperswithcode.com/method/wordpiece) for tokenization, it's a subword tokenization algorithm that was pretrained to know which groups of characters to keep together, the most frequent word pieces are the one kept in the vocabulary of the model. We can see bellow that some words are split into pieces while some others are kept as they are. Some tokens are preceded by `\"##\"`, this means that that is a completion of a word and should be attached to the previous token when decoding. "
      ]
    },
    {
      "cell_type": "code",
      "metadata": {
        "colab": {
          "base_uri": "https://localhost:8080/"
        },
        "id": "dnKm_B_mZZ5n",
        "outputId": "8b068582-0254-4b24-887a-342f9c3b404a"
      },
      "source": [
        "tokens = tokenizer.tokenize(train_texts[0])\n",
        "print(tokens)"
      ],
      "execution_count": null,
      "outputs": [
        {
          "output_type": "stream",
          "name": "stdout",
          "text": [
            "['الدكتورة', 'نجوى', 'قامة', 'في', 'القصف', 'الصار', '##وخ', '##ي', 'لك', 'ان', 'ترى', 'منشورات', '##ها', 'وتدخل', '##اتها']\n"
          ]
        }
      ]
    },
    {
      "cell_type": "markdown",
      "metadata": {
        "id": "MoHrah1lj1Qw"
      },
      "source": [
        "This is the original sequence."
      ]
    },
    {
      "cell_type": "code",
      "metadata": {
        "colab": {
          "base_uri": "https://localhost:8080/",
          "height": 35
        },
        "id": "ctBguPmyj1uo",
        "outputId": "ec476826-0fc1-49f9-c06b-a4490d4a8dc4"
      },
      "source": [
        "train_texts[0]"
      ],
      "execution_count": null,
      "outputs": [
        {
          "output_type": "execute_result",
          "data": {
            "application/vnd.google.colaboratory.intrinsic+json": {
              "type": "string"
            },
            "text/plain": [
              "'الدكتورة نجوى قامة في القصف الصاروخي لك ان ترى منشوراتها وتدخلاتها'"
            ]
          },
          "metadata": {},
          "execution_count": 13
        }
      ]
    },
    {
      "cell_type": "markdown",
      "metadata": {
        "id": "7KuxoLr3kSQ3"
      },
      "source": [
        "Before feeding our inputs to the model, we need to convert them to numbers. What we see bellow is the index of each token in the vocabulary of the pretrained DziriBERT WordPiece tokenizer. When finetuning the model, these indices will be used to retrieve the embedding vector of each token that was learned during pretraining."
      ]
    },
    {
      "cell_type": "code",
      "metadata": {
        "colab": {
          "base_uri": "https://localhost:8080/"
        },
        "id": "rhFjHONanl8Q",
        "outputId": "4094db0b-5139-4d92-997a-ac4a27adc0e4"
      },
      "source": [
        "ids = tokenizer.convert_tokens_to_ids(tokens)\n",
        "print(ids)"
      ],
      "execution_count": null,
      "outputs": [
        {
          "output_type": "stream",
          "name": "stdout",
          "text": [
            "[45796, 40053, 48544, 1821, 20759, 41048, 4769, 1016, 2374, 1828, 5601, 19452, 1814, 30404, 3985]\n"
          ]
        }
      ]
    },
    {
      "cell_type": "markdown",
      "metadata": {
        "id": "2ODpkdIWqSfG"
      },
      "source": [
        " A vocabulary is a dictionary that maps the tokens learned by WordPiece to indices, tokens that are not in the vocabulary are usually replaced with a special token (e.g. `[UNK]`)."
      ]
    },
    {
      "cell_type": "code",
      "metadata": {
        "colab": {
          "base_uri": "https://localhost:8080/"
        },
        "id": "xstiBcdpqR0a",
        "outputId": "05886718-073f-46fd-87ab-ea8748579449"
      },
      "source": [
        "tokenizer.vocab[tokens[0]]"
      ],
      "execution_count": null,
      "outputs": [
        {
          "output_type": "execute_result",
          "data": {
            "text/plain": [
              "45796"
            ]
          },
          "metadata": {},
          "execution_count": 15
        }
      ]
    },
    {
      "cell_type": "markdown",
      "metadata": {
        "id": "9AB23tLBsMr4"
      },
      "source": [
        "`encode_plus` is a chain of multiple steps to prepare the inputs of our model, this includes the ones we discussed before (`tokenize` and `encode_tokens_to_ids`), along with others like padding. We can see it has two outputs, `input_ids` which is similar to the output of `encode_tokens_to_ids`, and an another output which is `attention_mask`, this is used to indicate to the model the position of the padding tokens, this is done so that the attention layers can ignore them when computing token representations. 1 indicates an original token and 0 is for the padding token, which we can't see in the output because padding is not needed, it is usually useful when batching sequences together and we will see that bellow, we will also see where that 2 and 3 in the `input_ids` came from."
      ]
    },
    {
      "cell_type": "code",
      "metadata": {
        "colab": {
          "base_uri": "https://localhost:8080/"
        },
        "id": "dgK1isDn2new",
        "outputId": "700c7565-91ea-4d83-b2d4-def35d3fa533"
      },
      "source": [
        "tokenizer.encode_plus(train_texts[0], return_token_type_ids=False)"
      ],
      "execution_count": null,
      "outputs": [
        {
          "output_type": "execute_result",
          "data": {
            "text/plain": [
              "{'input_ids': [2, 45796, 40053, 48544, 1821, 20759, 41048, 4769, 1016, 2374, 1828, 5601, 19452, 1814, 30404, 3985, 3], 'attention_mask': [1, 1, 1, 1, 1, 1, 1, 1, 1, 1, 1, 1, 1, 1, 1, 1, 1]}"
            ]
          },
          "metadata": {},
          "execution_count": 16
        }
      ]
    },
    {
      "cell_type": "markdown",
      "metadata": {
        "id": "veWctTm41wqg"
      },
      "source": [
        "We usually want our model to take a batch of sequences, to do that, sequences must have the same length, one way we can do this is to grab the longest sequence in a batch and pad all the other sequences to have the same length. \n",
        "\n",
        "`batch_encode_plus` encodes a batch of sequences, we can see that the second sentence is padded with zeros to the length of the longest sequence in the batch, which is the first sentence, and its `attention_mask` also contains zeros indicating which tokens are padding."
      ]
    },
    {
      "cell_type": "code",
      "metadata": {
        "colab": {
          "base_uri": "https://localhost:8080/"
        },
        "id": "8dpJArpt0lrG",
        "outputId": "739e8510-1bf8-448d-e24f-20297fac3e8d"
      },
      "source": [
        "tokenizer.batch_encode_plus(train_texts[:2].to_list(), padding=True, return_token_type_ids=False)"
      ],
      "execution_count": null,
      "outputs": [
        {
          "output_type": "execute_result",
          "data": {
            "text/plain": [
              "{'input_ids': [[2, 7654, 5405, 4434, 5699, 20924, 2039, 20735, 2738, 8576, 7893, 1846, 22439, 5793, 24691, 36283, 43820, 6066, 2464, 3], [2, 4473, 2000, 5023, 1843, 21960, 1823, 1821, 5301, 4481, 3, 0, 0, 0, 0, 0, 0, 0, 0, 0]], 'attention_mask': [[1, 1, 1, 1, 1, 1, 1, 1, 1, 1, 1, 1, 1, 1, 1, 1, 1, 1, 1, 1], [1, 1, 1, 1, 1, 1, 1, 1, 1, 1, 1, 0, 0, 0, 0, 0, 0, 0, 0, 0]]}"
            ]
          },
          "metadata": {},
          "execution_count": 17
        }
      ]
    },
    {
      "cell_type": "markdown",
      "metadata": {
        "id": "YyHHO-qV3CkQ"
      },
      "source": [
        "Decoding is reversing the operations that were applied to the text, but we see that there are two new tokens (`[CLS]` and `[SEP]`) in our sequence, these are called special tokens and their indices in the vocabulary are 2 and 3, they are added by the tokenizer and to explain why, i will talk a bit about the training objectives of BERT.\n",
        "\n",
        "BERT language models are usually trained with two training objectives, Masked Language Modelling (MLM) and Next Sentence Prediction (NSP). \n",
        "\n",
        "**Masked Language Modelling (MLM)** is used in most if not all tranformer based models, at first, we mask a percentage of the input tokens, 15% in the original BERT but 25% in the case of DziriBERT as they state in [their paper](https://arxiv.org/abs/2109.12346), the reason as they mention is that DziriBERT is trained on tweets and they have a short length. The model is asked to predict the masked tokens based on their context (non-masked tokens), this way the model will learn language representations that can be useful when finetuning on downstream tasks.\n",
        "\n",
        "**Next Sentence Prediction** is a classification task where BERT takes a pair of sentences, and tries to predict whether the second sentence is the next sentence or not. This was shown to increase the performance of BERT especially in tasks that involve pairs of sentences (e.g. Question Answering (QA), Natural Language Inference (NLI), ...) as was declared in the [BERT paper](https://arxiv.org/abs/1810.04805). The pairs of sentences are separated by `[SEP]` token, and you can see bellow how the input of BERT should look like when doing NSP. The `[CLS]` token is used at the beginning of each input, as BERT outputs a vector representation for each token in the sequence, it will use only the representation of the `[CLS]` token to do Next Sentence Prediction. This way, the `[CLS]` token is thought to encode information about the whole input sequence, and that is why it is usually used in text classification tasks like ours."
      ]
    },
    {
      "cell_type": "markdown",
      "metadata": {
        "id": "1KQclvLTAXRw"
      },
      "source": [
        "> Note: DziriBERT is trained without NSP objective, and they cite in [the paper](https://arxiv.org/abs/2109.12346) that it was shown that it does not improve the results of downstream tasks."
      ]
    },
    {
      "cell_type": "code",
      "metadata": {
        "colab": {
          "base_uri": "https://localhost:8080/",
          "height": 35
        },
        "id": "YQotgSbeaFoq",
        "outputId": "230f6e36-beb9-40a5-8106-150bcbafd8de"
      },
      "source": [
        "out = tokenizer.encode_plus(train_texts[0], return_token_type_ids=False)\n",
        "tokenizer.decode(out['input_ids'])"
      ],
      "execution_count": null,
      "outputs": [
        {
          "output_type": "execute_result",
          "data": {
            "application/vnd.google.colaboratory.intrinsic+json": {
              "type": "string"
            },
            "text/plain": [
              "'[CLS] الدكتورة نجوى قامة في القصف الصاروخي لك ان ترى منشوراتها وتدخلاتها [SEP]'"
            ]
          },
          "metadata": {},
          "execution_count": 18
        }
      ]
    },
    {
      "cell_type": "markdown",
      "metadata": {
        "id": "iwpTy3RFBk4W"
      },
      "source": [
        "This is what normally the input of BERT would look like during pretraining with an NSP objective."
      ]
    },
    {
      "cell_type": "code",
      "metadata": {
        "colab": {
          "base_uri": "https://localhost:8080/",
          "height": 35
        },
        "id": "fXMYoUHm4SSg",
        "outputId": "266fcec5-3251-4313-f09f-bbbfcf1bdeff"
      },
      "source": [
        "tok_out = tokenizer(train_texts[0], train_texts[2])\n",
        "tokenizer.decode(tok_out['input_ids'])"
      ],
      "execution_count": null,
      "outputs": [
        {
          "output_type": "execute_result",
          "data": {
            "application/vnd.google.colaboratory.intrinsic+json": {
              "type": "string"
            },
            "text/plain": [
              "'[CLS] الدكتورة نجوى قامة في القصف الصاروخي لك ان ترى منشوراتها وتدخلاتها [SEP] 😂😂😂😂😂 شكون يعرفها🤔 [SEP]'"
            ]
          },
          "metadata": {},
          "execution_count": 19
        }
      ]
    },
    {
      "cell_type": "markdown",
      "metadata": {
        "id": "VBpO0FwFF6rv"
      },
      "source": [
        "### Finetuning the model"
      ]
    },
    {
      "cell_type": "markdown",
      "metadata": {
        "id": "Bz4FXSJZGGQM"
      },
      "source": [
        "We take a look at the length of sequences in our training set."
      ]
    },
    {
      "cell_type": "code",
      "metadata": {
        "colab": {
          "base_uri": "https://localhost:8080/",
          "height": 282
        },
        "id": "vDowG50J2trk",
        "outputId": "e8cc71f4-03ef-42c3-b70e-326eb4623bd5"
      },
      "source": [
        "seq_len = [len(tokenizer.encode(i)) for i in train_texts]\n",
        "\n",
        "pd.Series(seq_len).hist(bins = 30)"
      ],
      "execution_count": null,
      "outputs": [
        {
          "output_type": "execute_result",
          "data": {
            "text/plain": [
              "<matplotlib.axes._subplots.AxesSubplot at 0x7ff34811a590>"
            ]
          },
          "metadata": {},
          "execution_count": 20
        },
        {
          "output_type": "display_data",
          "data": {
            "image/png": "[encoded data removed]",
            "text/plain": [
              "<Figure size 432x288 with 1 Axes>"
            ]
          },
          "metadata": {
            "needs_background": "light"
          }
        }
      ]
    },
    {
      "cell_type": "markdown",
      "metadata": {
        "id": "v6xaeHVeKmQQ"
      },
      "source": [
        "The maximum sequence length that BERT can take is 512, but that would be too much for our case, since most sequences contain less than 40 tokens. We specify that for our tokenizer in `max_length` and set `truncation` to `true`, what this means is that any sequence longer than 40 will be truncated to `max_seq_len`. With that, we will lose some informations but it will reduce the training time, and that matters a lot when training on free colab 😄."
      ]
    },
    {
      "cell_type": "code",
      "metadata": {
        "id": "JOH4eD7tXTix"
      },
      "source": [
        "max_seq_len = 40\n",
        "\n",
        "train_encodings = tokenizer(train_texts.to_list(), truncation=True, padding=True, max_length=max_seq_len)\n",
        "val_encodings = tokenizer(val_texts.to_list(), truncation=True, padding=True, max_length=max_seq_len)\n",
        "test_encodings = tokenizer(test_texts.to_list(), truncation=True, padding=True, max_length=max_seq_len)"
      ],
      "execution_count": null,
      "outputs": []
    },
    {
      "cell_type": "markdown",
      "metadata": {
        "id": "PJRPVQzrM_-7"
      },
      "source": [
        "We create a Pytorch dataset class, which has two essential methods, `__len__` that should return the number of samples in the dataset, and `__get_item__` which will return the item (encoding and label) at index `idx`."
      ]
    },
    {
      "cell_type": "code",
      "metadata": {
        "id": "r6I5ixZPXx0Q"
      },
      "source": [
        "class TweetDataset(Dataset):\n",
        "    def __init__(self, encodings, labels):\n",
        "        self.encodings = encodings\n",
        "        self.labels = labels.to_list()\n",
        "\n",
        "    def __getitem__(self, idx):\n",
        "        item = {key: torch.tensor(val[idx]) for key, val in self.encodings.items()}\n",
        "        item['labels'] = torch.tensor(self.labels[idx])\n",
        "        return item\n",
        "\n",
        "    def __len__(self):\n",
        "        return len(self.labels)\n",
        "\n",
        "train_dataset = TweetDataset(train_encodings, train_labels)\n",
        "val_dataset = TweetDataset(val_encodings, val_labels)\n",
        "test_dataset = TweetDataset(test_encodings, test_labels)"
      ],
      "execution_count": null,
      "outputs": []
    },
    {
      "cell_type": "markdown",
      "metadata": {
        "id": "l8aVE04vYLIH"
      },
      "source": [
        "To evaluate our model while training, we need to pass a function that takes the model's predictions, and compute the metrics that we care about. In our case we will compute the accuracy, f1 score, precision and recall because our dataset is imbalanced, and also to compare with the baselines in [MSDA paper](https://arxiv.org/abs/2102.11000)."
      ]
    },
    {
      "cell_type": "code",
      "metadata": {
        "id": "mIlqPNMc7hts"
      },
      "source": [
        "from sklearn.metrics import precision_recall_fscore_support, accuracy_score\n",
        "\n",
        "def compute_metrics(pred):\n",
        "    labels = pred.label_ids\n",
        "    preds = pred.predictions.argmax(-1)\n",
        "    precision, recall, f1, _ = precision_recall_fscore_support(labels, preds, average='micro')\n",
        "    acc = accuracy_score(labels, preds)\n",
        "    return {\n",
        "        'accuracy': acc,\n",
        "        'f1': f1,\n",
        "        'precision': precision,\n",
        "        'recall': recall\n",
        "    }"
      ],
      "execution_count": null,
      "outputs": []
    },
    {
      "cell_type": "markdown",
      "metadata": {
        "id": "tHKIYmmHfRPS"
      },
      "source": [
        "Now is time to load the pretrained DziriBERT model from Hugging Face Hub. What `AutoModelForSequenceClassification` does is to remove the pretraining head of the model, and replace it with a classification head that will be initialized randomly. This classification head is just a linear layer that will take  something called `pooler_output` as input and output 5 numbers (as specified in `num_labels`) for each sequence, these are called logits and they are passed through a softmax function to get probabilities when computing the loss or to when computing metrics.\n",
        "\n",
        "`pooler_output` is one of the outputs of a BERT model, it is the representation of the `[CLS]` token after it was passed through a linear layer followed by a tanh activation function."
      ]
    },
    {
      "cell_type": "code",
      "metadata": {
        "colab": {
          "base_uri": "https://localhost:8080/",
          "height": 154,
          "referenced_widgets": [
            "8f4fdafd65d94ba28e9ff472cfe01a02",
            "b52531f7f80b4e3e81c1d0117a0f5b69",
            "f7ab52e4ec274966ad63ac200d03242b",
            "427399d7bf87460d9eea0e6d69b3fb8a",
            "fc1a0b29ca1e4a37bae5d96e03bb7c9a",
            "1e1d3074465a4fae95df4a4658f1da07",
            "e8b0312332574da79dd01c191b30c34d",
            "8f053deac3f74ca285bcc3af45ad6957",
            "39b8ab740a9f4147813e7352b91bd8a0",
            "40a580fdd2d5481e9144f7f23fd70c6e",
            "edec144ed2144c769249ce3249af27e1"
          ]
        },
        "id": "2kdvheGlZLuX",
        "outputId": "5003424c-ac3a-407b-a763-2582fa31738b"
      },
      "source": [
        "model = AutoModelForSequenceClassification.from_pretrained(BERT_MODEL_NAME, num_labels=5)"
      ],
      "execution_count": null,
      "outputs": [
        {
          "output_type": "display_data",
          "data": {
            "application/vnd.jupyter.widget-view+json": {
              "model_id": "8f4fdafd65d94ba28e9ff472cfe01a02",
              "version_minor": 0,
              "version_major": 2
            },
            "text/plain": [
              "Downloading:   0%|          | 0.00/475M [00:00<?, ?B/s]"
            ]
          },
          "metadata": {}
        },
        {
          "output_type": "stream",
          "name": "stderr",
          "text": [
            "Some weights of the model checkpoint at alger-ia/dziribert were not used when initializing BertForSequenceClassification: ['cls.predictions.transform.dense.bias', 'cls.predictions.decoder.bias', 'cls.predictions.transform.LayerNorm.bias', 'cls.predictions.transform.LayerNorm.weight', 'cls.predictions.transform.dense.weight', 'cls.predictions.bias', 'cls.predictions.decoder.weight']\n",
            "- This IS expected if you are initializing BertForSequenceClassification from the checkpoint of a model trained on another task or with another architecture (e.g. initializing a BertForSequenceClassification model from a BertForPreTraining model).\n",
            "- This IS NOT expected if you are initializing BertForSequenceClassification from the checkpoint of a model that you expect to be exactly identical (initializing a BertForSequenceClassification model from a BertForSequenceClassification model).\n",
            "Some weights of BertForSequenceClassification were not initialized from the model checkpoint at alger-ia/dziribert and are newly initialized: ['bert.pooler.dense.weight', 'classifier.bias', 'classifier.weight', 'bert.pooler.dense.bias']\n",
            "You should probably TRAIN this model on a down-stream task to be able to use it for predictions and inference.\n"
          ]
        }
      ]
    },
    {
      "cell_type": "markdown",
      "metadata": {
        "id": "aBimH9zokbVn"
      },
      "source": [
        "Taking a look at logits."
      ]
    },
    {
      "cell_type": "code",
      "metadata": {
        "colab": {
          "base_uri": "https://localhost:8080/"
        },
        "id": "2dX_TOq6kb0t",
        "outputId": "18293ef5-ebd4-4520-f498-1bfeb7b0c3de"
      },
      "source": [
        "out = tokenizer.encode_plus(train_texts[0], return_token_type_ids=False, return_tensors='pt')\n",
        "\n",
        "model.eval()\n",
        "with torch.no_grad():\n",
        "  print(model(**out)['logits'])"
      ],
      "execution_count": null,
      "outputs": [
        {
          "output_type": "stream",
          "name": "stdout",
          "text": [
            "tensor([[ 0.0181, -0.0198, -0.2928,  0.1794,  0.1907]])\n"
          ]
        }
      ]
    },
    {
      "cell_type": "markdown",
      "metadata": {
        "id": "LyV0957tmAty"
      },
      "source": [
        "The `Trainer` is what takes care of training our models, it takes arguments through the `TrainingArguments` class, and takes our model, datasets and the method to compute metrics and output them on a nice table during training. calling `train` will start finetuning our classification model, and what we need now is to find something to do instead of looking at the progress bar 😁. "
      ]
    },
    {
      "cell_type": "code",
      "metadata": {
        "colab": {
          "base_uri": "https://localhost:8080/",
          "height": 1000
        },
        "id": "MSg1dPqNX6mE",
        "outputId": "989b07ab-3de3-4e8d-e357-487f623910cf"
      },
      "source": [
        "training_args = TrainingArguments(\n",
        "    output_dir='./results',          # output directory\n",
        "    num_train_epochs=5,              # total number of training epochs\n",
        "    per_device_train_batch_size=32,  # batch size per device during training\n",
        "    per_device_eval_batch_size=64,   # batch size for evaluation\n",
        "    warmup_steps=500,                # number of warmup steps for learning rate scheduler\n",
        "    weight_decay=0.01,               # strength of weight decay\n",
        "    evaluation_strategy='epoch',     # evaluate at the end of each epoch\n",
        "    logging_strategy='epoch'        # log at the end of each epoch\n",
        "    )\n",
        "\n",
        "trainer = Trainer(\n",
        "    model=model,                         # the instantiated Transformers model \n",
        "    args=training_args,                  # training arguments\n",
        "    train_dataset=train_dataset,         # training dataset\n",
        "    eval_dataset=val_dataset,            # evaluation dataset\n",
        "    compute_metrics=compute_metrics      # method we defined before to compute our metrics\n",
        "    )\n",
        "\n",
        "trainer.train()"
      ],
      "execution_count": null,
      "outputs": [
        {
          "output_type": "stream",
          "name": "stderr",
          "text": [
            "***** Running training *****\n",
            "  Num examples = 37382\n",
            "  Num Epochs = 5\n",
            "  Instantaneous batch size per device = 32\n",
            "  Total train batch size (w. parallel, distributed & accumulation) = 32\n",
            "  Gradient Accumulation steps = 1\n",
            "  Total optimization steps = 5845\n"
          ]
        },
        {
          "output_type": "display_data",
          "data": {
            "text/html": [
              "\n",
              "    <div>\n",
              "      \n",
              "      <progress value='5845' max='5845' style='width:300px; height:20px; vertical-align: middle;'></progress>\n",
              "      [5845/5845 54:47, Epoch 5/5]\n",
              "    </div>\n",
              "    <table border=\"1\" class=\"dataframe\">\n",
              "  <thead>\n",
              "    <tr style=\"text-align: left;\">\n",
              "      <th>Epoch</th>\n",
              "      <th>Training Loss</th>\n",
              "      <th>Validation Loss</th>\n",
              "      <th>Accuracy</th>\n",
              "      <th>F1</th>\n",
              "      <th>Precision</th>\n",
              "      <th>Recall</th>\n",
              "    </tr>\n",
              "  </thead>\n",
              "  <tbody>\n",
              "    <tr>\n",
              "      <td>1</td>\n",
              "      <td>0.650000</td>\n",
              "      <td>0.494892</td>\n",
              "      <td>0.826592</td>\n",
              "      <td>0.826592</td>\n",
              "      <td>0.826592</td>\n",
              "      <td>0.826592</td>\n",
              "    </tr>\n",
              "    <tr>\n",
              "      <td>2</td>\n",
              "      <td>0.300600</td>\n",
              "      <td>0.468697</td>\n",
              "      <td>0.841199</td>\n",
              "      <td>0.841199</td>\n",
              "      <td>0.841199</td>\n",
              "      <td>0.841199</td>\n",
              "    </tr>\n",
              "    <tr>\n",
              "      <td>3</td>\n",
              "      <td>0.142800</td>\n",
              "      <td>0.587720</td>\n",
              "      <td>0.846941</td>\n",
              "      <td>0.846941</td>\n",
              "      <td>0.846941</td>\n",
              "      <td>0.846941</td>\n",
              "    </tr>\n",
              "    <tr>\n",
              "      <td>4</td>\n",
              "      <td>0.073500</td>\n",
              "      <td>0.751222</td>\n",
              "      <td>0.853308</td>\n",
              "      <td>0.853308</td>\n",
              "      <td>0.853308</td>\n",
              "      <td>0.853308</td>\n",
              "    </tr>\n",
              "    <tr>\n",
              "      <td>5</td>\n",
              "      <td>0.041000</td>\n",
              "      <td>0.836090</td>\n",
              "      <td>0.850312</td>\n",
              "      <td>0.850312</td>\n",
              "      <td>0.850312</td>\n",
              "      <td>0.850312</td>\n",
              "    </tr>\n",
              "  </tbody>\n",
              "</table><p>"
            ],
            "text/plain": [
              "<IPython.core.display.HTML object>"
            ]
          },
          "metadata": {}
        },
        {
          "output_type": "stream",
          "name": "stderr",
          "text": [
            "Saving model checkpoint to ./results/checkpoint-500\n",
            "Configuration saved in ./results/checkpoint-500/config.json\n",
            "Model weights saved in ./results/checkpoint-500/pytorch_model.bin\n",
            "Saving model checkpoint to ./results/checkpoint-1000\n",
            "Configuration saved in ./results/checkpoint-1000/config.json\n",
            "Model weights saved in ./results/checkpoint-1000/pytorch_model.bin\n",
            "***** Running Evaluation *****\n",
            "  Num examples = 8010\n",
            "  Batch size = 64\n",
            "Saving model checkpoint to ./results/checkpoint-1500\n",
            "Configuration saved in ./results/checkpoint-1500/config.json\n",
            "Model weights saved in ./results/checkpoint-1500/pytorch_model.bin\n",
            "Saving model checkpoint to ./results/checkpoint-2000\n",
            "Configuration saved in ./results/checkpoint-2000/config.json\n",
            "Model weights saved in ./results/checkpoint-2000/pytorch_model.bin\n",
            "***** Running Evaluation *****\n",
            "  Num examples = 8010\n",
            "  Batch size = 64\n",
            "Saving model checkpoint to ./results/checkpoint-2500\n",
            "Configuration saved in ./results/checkpoint-2500/config.json\n",
            "Model weights saved in ./results/checkpoint-2500/pytorch_model.bin\n",
            "Saving model checkpoint to ./results/checkpoint-3000\n",
            "Configuration saved in ./results/checkpoint-3000/config.json\n",
            "Model weights saved in ./results/checkpoint-3000/pytorch_model.bin\n",
            "Saving model checkpoint to ./results/checkpoint-3500\n",
            "Configuration saved in ./results/checkpoint-3500/config.json\n",
            "Model weights saved in ./results/checkpoint-3500/pytorch_model.bin\n",
            "***** Running Evaluation *****\n",
            "  Num examples = 8010\n",
            "  Batch size = 64\n",
            "Saving model checkpoint to ./results/checkpoint-4000\n",
            "Configuration saved in ./results/checkpoint-4000/config.json\n",
            "Model weights saved in ./results/checkpoint-4000/pytorch_model.bin\n",
            "Saving model checkpoint to ./results/checkpoint-4500\n",
            "Configuration saved in ./results/checkpoint-4500/config.json\n",
            "Model weights saved in ./results/checkpoint-4500/pytorch_model.bin\n",
            "***** Running Evaluation *****\n",
            "  Num examples = 8010\n",
            "  Batch size = 64\n",
            "Saving model checkpoint to ./results/checkpoint-5000\n",
            "Configuration saved in ./results/checkpoint-5000/config.json\n",
            "Model weights saved in ./results/checkpoint-5000/pytorch_model.bin\n",
            "Saving model checkpoint to ./results/checkpoint-5500\n",
            "Configuration saved in ./results/checkpoint-5500/config.json\n",
            "Model weights saved in ./results/checkpoint-5500/pytorch_model.bin\n",
            "***** Running Evaluation *****\n",
            "  Num examples = 8010\n",
            "  Batch size = 64\n",
            "\n",
            "\n",
            "Training completed. Do not forget to share your model on huggingface.co/models =)\n",
            "\n",
            "\n"
          ]
        },
        {
          "output_type": "execute_result",
          "data": {
            "text/plain": [
              "TrainOutput(global_step=5845, training_loss=0.24160565000196316, metrics={'train_runtime': 3288.5532, 'train_samples_per_second': 56.837, 'train_steps_per_second': 1.777, 'total_flos': 3842141563120800.0, 'train_loss': 0.24160565000196316, 'epoch': 5.0})"
            ]
          },
          "metadata": {},
          "execution_count": 33
        }
      ]
    },
    {
      "cell_type": "markdown",
      "metadata": {
        "id": "qTOw4UwcnzZo"
      },
      "source": [
        "`predict` which we pass our test dataset, returns a prediction (logits) for each sample in the dataset, and also computes the metrics that we already passed to the `Trainer`."
      ]
    },
    {
      "cell_type": "code",
      "metadata": {
        "colab": {
          "base_uri": "https://localhost:8080/",
          "height": 244
        },
        "id": "1i4Q3t7xifPX",
        "outputId": "1b301178-63ab-4922-d874-f8142b717bfd"
      },
      "source": [
        "trainer.predict(test_dataset)"
      ],
      "execution_count": null,
      "outputs": [
        {
          "output_type": "stream",
          "name": "stderr",
          "text": [
            "***** Running Prediction *****\n",
            "  Num examples = 8011\n",
            "  Batch size = 64\n"
          ]
        },
        {
          "output_type": "display_data",
          "data": {
            "text/html": [
              "\n",
              "    <div>\n",
              "      \n",
              "      <progress value='126' max='126' style='width:300px; height:20px; vertical-align: middle;'></progress>\n",
              "      [126/126 00:38]\n",
              "    </div>\n",
              "    "
            ],
            "text/plain": [
              "<IPython.core.display.HTML object>"
            ]
          },
          "metadata": {}
        },
        {
          "output_type": "execute_result",
          "data": {
            "text/plain": [
              "PredictionOutput(predictions=array([[-2.8933556 ,  7.270326  , -1.6885829 , -1.338966  , -2.3586602 ],\n",
              "       [-1.2138728 , -1.8854287 , -2.3426878 ,  7.971615  , -2.857426  ],\n",
              "       [-1.9059055 , -1.641494  , -3.739841  ,  0.8998544 ,  6.444405  ],\n",
              "       ...,\n",
              "       [-1.78565   ,  6.1445756 , -1.9356711 ,  0.23239179, -3.9032187 ],\n",
              "       [-0.16582216, -1.4176931 ,  2.6004167 ,  0.93503976, -1.9505943 ],\n",
              "       [ 8.251636  , -2.1360373 , -2.0708601 , -1.7121732 , -1.773536  ]],\n",
              "      dtype=float32), label_ids=array([1, 3, 4, ..., 3, 3, 0]), metrics={'test_loss': 0.8449447154998779, 'test_accuracy': 0.8483335413806017, 'test_f1': 0.8483335413806017, 'test_precision': 0.8483335413806017, 'test_recall': 0.8483335413806017, 'test_runtime': 38.7147, 'test_samples_per_second': 206.924, 'test_steps_per_second': 3.255})"
            ]
          },
          "metadata": {},
          "execution_count": 34
        }
      ]
    },
    {
      "cell_type": "markdown",
      "metadata": {
        "id": "ZteXGZ3Ppk_A"
      },
      "source": [
        "---\n",
        "We get **0.84** across all metrics by finetuning a model that was pretrained on one dialect. To see where we are, we take a look at the baseline results in the [MSDA paper](https://arxiv.org/abs/2102.11000).\n",
        "\n",
        "![image.png](data:image/png;base64,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)"
      ]
    },
    {
      "cell_type": "markdown",
      "metadata": {
        "id": "GTu30AcN4a6S"
      },
      "source": [
        "In this [Github repository](https://github.com/issam9/finetuning-bert-models-for-arabic-dialect-detection), i compared DziriBERT to other arabic bert models ([Arabert](https://github.com/aub-mind/arabert) and [Arabic-Bert](https://github.com/alisafaya/Arabic-BERT)) for this task, and it was able to outperform both of them even though they are pretrained on a lot more data. What is surprising is that the version of Arabert i used is pretrained on a dataset that includes 60M of multi-dialect tweets."
      ]
    }
  ]
}