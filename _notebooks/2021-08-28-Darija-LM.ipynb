{
  "nbformat": 4,
  "nbformat_minor": 0,
  "metadata": {
    "colab": {
      "name": "darija_lm.ipynb",
      "provenance": [],
      "collapsed_sections": []
    },
    "kernelspec": {
      "name": "python3",
      "display_name": "Python 3"
    },
    "language_info": {
      "name": "python"
    }
  },
  "cells": [
    {
      "cell_type": "markdown",
      "metadata": {
        "id": "fbc91DaNCcW5"
      },
      "source": [
        "This is a small effort to build a darija language model, i use Moroccan Darija Wikipedia to train an [AWD_LSTM](https://arxiv.org/abs/1708.02182) model using fastai, it is a small dataset which means that this language model won't be perfect for language generation but it might be useful to finetune it on a task like text classification following the [ULMFiT](https://arxiv.org/abs/1801.06146) approach, where you train a language model on Wikipedia text like we do in this notebook to gain some knowledge about the language of your choice, then finetune it on domain-specific data using the same objective of your pretrained language model, to bridge the gap between the language used in wikipedia text and the language used in your dataset(e.g., formal language -> informal language), and finally, we finetune our language model on our task of text classification.\n",
        "\n",
        "This model can be improved by:\n",
        "\n",
        "\n",
        "*   Throwing more data at it of course\n",
        "*   Some text preprocessing\n",
        "*   Tuning the hyperparameters\n",
        "*   I thought also about pretraining on arabic which might be a good idea given the similarities between arabic and darija\n",
        "\n",
        "\n",
        "---\n",
        "\n",
        "\n"
      ]
    },
    {
      "cell_type": "markdown",
      "metadata": {
        "id": "bz6ZUQqmXrCR"
      },
      "source": [
        "Let's start by upgrading fastai and installing SentencePiece to use for subword tokenization"
      ]
    },
    {
      "cell_type": "code",
      "metadata": {
        "id": "XObN-0TJjRBi"
      },
      "source": [
        "!pip install fastai -q --upgrade \n",
        "!pip install -q sentencepiece!=0.1.90,!=0.1.91 "
      ],
      "execution_count": 2,
      "outputs": []
    },
    {
      "cell_type": "code",
      "metadata": {
        "id": "v36942sNh36P"
      },
      "source": [
        "import sys\n",
        "from gensim.corpora import WikiCorpus\n",
        "from fastai.text.all import *\n",
        "import torch as torch\n",
        "import pandas as pd\n",
        "import numpy as np"
      ],
      "execution_count": 3,
      "outputs": []
    },
    {
      "cell_type": "code",
      "metadata": {
        "colab": {
          "base_uri": "https://localhost:8080/"
        },
        "id": "yRyzkT0xmsin",
        "outputId": "0a870061-a2df-4d9b-9dd4-a62e3c09a6ec"
      },
      "source": [
        "from google.colab import drive\n",
        "drive.mount('/content/drive/')"
      ],
      "execution_count": 4,
      "outputs": [
        {
          "output_type": "stream",
          "text": [
            "Drive already mounted at /content/drive/; to attempt to forcibly remount, call drive.mount(\"/content/drive/\", force_remount=True).\n"
          ],
          "name": "stdout"
        }
      ]
    },
    {
      "cell_type": "code",
      "metadata": {
        "id": "zCD9IKJbmKIv"
      },
      "source": [
        "path = Path('/content/drive/MyDrive/ml/projects/darija/')\n",
        "dls_path = path/'dls'\n",
        "model_path = path/'models'\n",
        "spm_path = model_path/'spm'\n",
        "\n",
        "dls_path.mkdir(exist_ok=True, parents=True)\n",
        "model_path.mkdir(exist_ok=True, parents=True)\n",
        "spm_path.mkdir(exist_ok=True, parents=True)"
      ],
      "execution_count": 5,
      "outputs": []
    },
    {
      "cell_type": "markdown",
      "metadata": {
        "id": "PtyRjPo_YRux"
      },
      "source": [
        "This is how we can download The Moroccan Darija Wikipedia data, it's available in this [link](https://dumps.wikimedia.org/arywiki/20210520/)"
      ]
    },
    {
      "cell_type": "code",
      "metadata": {
        "colab": {
          "base_uri": "https://localhost:8080/"
        },
        "id": "1Hx9arrolvyZ",
        "outputId": "920d863d-5506-4821-8235-e603c91d8670"
      },
      "source": [
        "!wget https://dumps.wikimedia.org/arywiki/latest/arywiki-latest-pages-articles.xml.bz2 -O '/content/drive/MyDrive/ml/projects/darija/arywiki-latest-pages-articles.xml.bz2'"
      ],
      "execution_count": 6,
      "outputs": [
        {
          "output_type": "stream",
          "text": [
            "--2021-08-28 19:55:19--  https://dumps.wikimedia.org/arywiki/latest/arywiki-latest-pages-articles.xml.bz2\n",
            "Resolving dumps.wikimedia.org (dumps.wikimedia.org)... 208.80.154.7, 2620:0:861:1:208:80:154:7\n",
            "Connecting to dumps.wikimedia.org (dumps.wikimedia.org)|208.80.154.7|:443... connected.\n",
            "HTTP request sent, awaiting response... 200 OK\n",
            "Length: 4178623 (4.0M) [application/octet-stream]\n",
            "Saving to: ‘/content/drive/MyDrive/ml/projects/darija/arywiki-latest-pages-articles.xml.bz2’\n",
            "\n",
            "/content/drive/MyDr 100%[===================>]   3.98M  5.61MB/s    in 0.7s    \n",
            "\n",
            "2021-08-28 19:55:20 (5.61 MB/s) - ‘/content/drive/MyDrive/ml/projects/darija/arywiki-latest-pages-articles.xml.bz2’ saved [4178623/4178623]\n",
            "\n"
          ],
          "name": "stdout"
        }
      ]
    },
    {
      "cell_type": "markdown",
      "metadata": {
        "id": "nMljHST1ZXDR"
      },
      "source": [
        "We make use of [WikiCorpus](https://radimrehurek.com/gensim/corpora/wikicorpus.html) from gensim to convert the XML file we downloaded to a text corpus. \n",
        "\n"
      ]
    },
    {
      "cell_type": "code",
      "metadata": {
        "colab": {
          "base_uri": "https://localhost:8080/"
        },
        "id": "BGtsuYznmTeK",
        "outputId": "7969fa67-8403-44dc-eaeb-92767e61e28c"
      },
      "source": [
        "def make_corpus(in_f, out_f):\n",
        "\n",
        "  \"\"\"Convert Wikipedia xml dump file to text corpus\"\"\"\n",
        "\n",
        "  output = open(out_f, 'w')\n",
        "  wiki = WikiCorpus(in_f)\n",
        "\n",
        "  for i, text in enumerate(wiki.get_texts()):\n",
        "    output.write(bytes(' '.join(text), 'utf-8').decode('utf-8') + '\\n')\n",
        "\n",
        "    if (i % 1000 == 0):\n",
        "      print('Processed ' + str(i) + ' articles')\n",
        "    \n",
        "  output.close()\n",
        "  print('Processing complete!')\n",
        "\n",
        "\n",
        "make_corpus(f'{path}/arywiki-latest-pages-articles.xml.bz2', f'{path}/wiki_darija.txt')"
      ],
      "execution_count": 30,
      "outputs": [
        {
          "output_type": "stream",
          "text": [
            "Processed 0 articles\n",
            "Processed 1000 articles\n",
            "Processed 2000 articles\n",
            "Processed 3000 articles\n",
            "Processing complete!\n"
          ],
          "name": "stdout"
        }
      ]
    },
    {
      "cell_type": "code",
      "metadata": {
        "colab": {
          "base_uri": "https://localhost:8080/"
        },
        "id": "Yb6aVAFfnUv5",
        "outputId": "ad7d9941-ac82-43cd-e19f-b1785aeb0bdc"
      },
      "source": [
        "path.ls()"
      ],
      "execution_count": 7,
      "outputs": [
        {
          "output_type": "execute_result",
          "data": {
            "text/plain": [
              "(#10) [Path('/content/drive/MyDrive/ml/projects/darija/arwiki.xml.bz2'),Path('/content/drive/MyDrive/ml/projects/darija/dls'),Path('/content/drive/MyDrive/ml/projects/darija/models'),Path('/content/drive/MyDrive/ml/projects/darija/arwiki-latest-pages-articles.xml.bz2'),Path('/content/drive/MyDrive/ml/projects/darija/wiki_arabic.txt'),Path('/content/drive/MyDrive/ml/projects/darija/Untitled0.ipynb'),Path('/content/drive/MyDrive/ml/projects/darija/Copie de darija_lm.ipynb'),Path('/content/drive/MyDrive/ml/projects/darija/arywiki-latest-pages-articles.xml.bz2'),Path('/content/drive/MyDrive/ml/projects/darija/wiki_darija.txt'),Path('/content/drive/MyDrive/ml/projects/darija/darija_lm.ipynb')]"
            ]
          },
          "metadata": {},
          "execution_count": 7
        }
      ]
    },
    {
      "cell_type": "markdown",
      "metadata": {
        "id": "_pn-YMvkgVUB"
      },
      "source": [
        "Now we load our text data as a pandas dataframe, and we take a look at it using the most advanced EDA technique 😄, we can see that there are words from other languages that will most likely disappear  due to their low frequency, and we can tell fastai the minimum word frequency (by default it’s 3) we can tolerate using fastai DataBlocks that we discuss below."
      ]
    },
    {
      "cell_type": "code",
      "metadata": {
        "colab": {
          "base_uri": "https://localhost:8080/",
          "height": 323
        },
        "id": "tGN7LW9lpi7U",
        "outputId": "49e36bbc-6814-4ddf-a77c-ea407338933c"
      },
      "source": [
        "df = pd.read_csv(path/'wiki_darija.txt', header=None, names=['text'])\n",
        "df.head()"
      ],
      "execution_count": 6,
      "outputs": [
        {
          "output_type": "execute_result",
          "data": {
            "text/html": [
              "<div>\n",
              "<style scoped>\n",
              "    .dataframe tbody tr th:only-of-type {\n",
              "        vertical-align: middle;\n",
              "    }\n",
              "\n",
              "    .dataframe tbody tr th {\n",
              "        vertical-align: top;\n",
              "    }\n",
              "\n",
              "    .dataframe thead th {\n",
              "        text-align: right;\n",
              "    }\n",
              "</style>\n",
              "<table border=\"1\" class=\"dataframe\">\n",
              "  <thead>\n",
              "    <tr style=\"text-align: right;\">\n",
              "      <th></th>\n",
              "      <th>text</th>\n",
              "    </tr>\n",
              "  </thead>\n",
              "  <tbody>\n",
              "    <tr>\n",
              "      <th>0</th>\n",
              "      <td>آبطح جماعة ترابية قروية كاينة إقليم عمالة طان طان جهة ݣلميم واد نون ساكنين فيها واحد على حسب لإحصاء لعام تعليم نسبة لأمية اس ما كايعرفوش يقراو ولا يكتبو نسبة كان قاريين فوق انوي تانوي جامعة اقتصاد نسبة اس شيطين يقدرو يخدمو نسبة لبطالة اس ما خدامينش تايقلبو على خدمة نسبة اس اللي خدامين ولة ولا لعاطلين اللي سبق ليهوم خدمو نسبة اس اللي خدامين في لقطاع لخاص ولا لعاطلين اللي سبق ليهوم خدمو عيون لكلام تصنيف جهة ݣلميم واد نون</td>\n",
              "    </tr>\n",
              "    <tr>\n",
              "      <th>1</th>\n",
              "      <td>آسفي بالأمازيغية ⴰⵙⴼⵉ هي مدينة مغربية جات إقليم آسفي جهة مراكش آسفي آسفي معروفة بالفخار والحوت وخصوصا السردين ومكنيين عليها حاضرة المحيط الحطة ديال آسفي جات كاطل على المحيط الأطلسي بين الجديدة والصويرة في آسفي كاين بزاف دالبني لي قديم وتاريخي وهي من بين المدون القديمة في المغرب ساكنين فيها واحد على حسب لإحصاء لعام تعليم نسبة لأمية اس ما كايعرفوش يقراو ولا يكتبو نسبة كان قاريين فوق انوي تانوي جامعة اقتصاد نسبة اس شيطين يقدرو يخدمو نسبة لبطالة اس ما خدامينش تايقلبو على خدمة نسبة اس اللي خدامين ولة ولا لعاطلين اللي سبق ليهوم خدمو نسبة اس اللي خدامين في لقطاع لخاص ولا لعاطلين اللي سبق ليهوم خد...</td>\n",
              "    </tr>\n",
              "    <tr>\n",
              "      <th>2</th>\n",
              "      <td>آلبرخت دورر بالألمانية albrecht dürer ماي أبريل رسام صانع طباعة وم كاينتامي لعصر النهضة الألمانية تزاد في نورمبرݣ دورر أسس للسمعة والتأثير ديالو عبر أوروبا فالوقت اللي مازالا فالعشرينات من عمرو نتيجة لجودة نقوشاتو الخشبية كان فاتصال مع أكبر الفنانين الإيطاليين فالعصر ديالو بما فيهم رفائيل جيوڤاني بيليني وليوناردو دا ڤينتشي وابتداء من كان كي اخد الدعم من عند الإمبراطور ماكسيميليان الأول تم تشييع دورر فالكنيستين اللوثرية والأسقفية بجوج كتشمل مجموعة أعمال دورر الواسعة النقوش أسلوبو المفضل في طبعاتو الأخيرة الأعمال الفنية فالكنائس altarpieces پورتريهات پورتريهات ذاتية لوحات مائية وك النقوش الخ...</td>\n",
              "    </tr>\n",
              "    <tr>\n",
              "      <th>3</th>\n",
              "      <td>آمتدي جماعة ترابية قروية كاينة إقليم عمالة ݣلميم جهة ݣلميم واد نون ساكنين فيها واحد على حسب لإحصاء لعام تعليم نسبة لأمية اس ما كايعرفوش يقراو ولا يكتبو نسبة كان قاريين فوق انوي تانوي جامعة اقتصاد نسبة اس شيطين يقدرو يخدمو نسبة لبطالة اس ما خدامينش تايقلبو على خدمة نسبة اس اللي خدامين ولة ولا لعاطلين اللي سبق ليهوم خدمو نسبة اس اللي خدامين في لقطاع لخاص ولا لعاطلين اللي سبق ليهوم خدمو عيون لكلام تصنيف جهة ݣلميم واد نون</td>\n",
              "    </tr>\n",
              "    <tr>\n",
              "      <th>4</th>\n",
              "      <td>آنفݣ جماعة ترابية قروية كاينة إقليم عمالة سيدي إيفني جهة ݣلميم واد نون ساكنين فيها واحد على حسب لإحصاء لعام تعليم نسبة لأمية اس ما كايعرفوش يقراو ولا يكتبو نسبة كان قاريين فوق انوي تانوي جامعة اقتصاد نسبة اس شيطين يقدرو يخدمو نسبة لبطالة اس ما خدامينش تايقلبو على خدمة نسبة اس اللي خدامين ولة ولا لعاطلين اللي سبق ليهوم خدمو نسبة اس اللي خدامين في لقطاع لخاص ولا لعاطلين اللي سبق ليهوم خدمو عيون لكلام تصنيف جهة ݣلميم واد نون</td>\n",
              "    </tr>\n",
              "  </tbody>\n",
              "</table>\n",
              "</div>"
            ],
            "text/plain": [
              "                                                                                                                                                                                                                                                                                                                                                                                                                                                                                                                                                                                                                      text\n",
              "0                                                                                                                                                                                   آبطح جماعة ترابية قروية كاينة إقليم عمالة طان طان جهة ݣلميم واد نون ساكنين فيها واحد على حسب لإحصاء لعام تعليم نسبة لأمية اس ما كايعرفوش يقراو ولا يكتبو نسبة كان قاريين فوق انوي تانوي جامعة اقتصاد نسبة اس شيطين يقدرو يخدمو نسبة لبطالة اس ما خدامينش تايقلبو على خدمة نسبة اس اللي خدامين ولة ولا لعاطلين اللي سبق ليهوم خدمو نسبة اس اللي خدامين في لقطاع لخاص ولا لعاطلين اللي سبق ليهوم خدمو عيون لكلام تصنيف جهة ݣلميم واد نون\n",
              "1  آسفي بالأمازيغية ⴰⵙⴼⵉ هي مدينة مغربية جات إقليم آسفي جهة مراكش آسفي آسفي معروفة بالفخار والحوت وخصوصا السردين ومكنيين عليها حاضرة المحيط الحطة ديال آسفي جات كاطل على المحيط الأطلسي بين الجديدة والصويرة في آسفي كاين بزاف دالبني لي قديم وتاريخي وهي من بين المدون القديمة في المغرب ساكنين فيها واحد على حسب لإحصاء لعام تعليم نسبة لأمية اس ما كايعرفوش يقراو ولا يكتبو نسبة كان قاريين فوق انوي تانوي جامعة اقتصاد نسبة اس شيطين يقدرو يخدمو نسبة لبطالة اس ما خدامينش تايقلبو على خدمة نسبة اس اللي خدامين ولة ولا لعاطلين اللي سبق ليهوم خدمو نسبة اس اللي خدامين في لقطاع لخاص ولا لعاطلين اللي سبق ليهوم خد...\n",
              "2  آلبرخت دورر بالألمانية albrecht dürer ماي أبريل رسام صانع طباعة وم كاينتامي لعصر النهضة الألمانية تزاد في نورمبرݣ دورر أسس للسمعة والتأثير ديالو عبر أوروبا فالوقت اللي مازالا فالعشرينات من عمرو نتيجة لجودة نقوشاتو الخشبية كان فاتصال مع أكبر الفنانين الإيطاليين فالعصر ديالو بما فيهم رفائيل جيوڤاني بيليني وليوناردو دا ڤينتشي وابتداء من كان كي اخد الدعم من عند الإمبراطور ماكسيميليان الأول تم تشييع دورر فالكنيستين اللوثرية والأسقفية بجوج كتشمل مجموعة أعمال دورر الواسعة النقوش أسلوبو المفضل في طبعاتو الأخيرة الأعمال الفنية فالكنائس altarpieces پورتريهات پورتريهات ذاتية لوحات مائية وك النقوش الخ...\n",
              "3                                                                                                                                                                                    آمتدي جماعة ترابية قروية كاينة إقليم عمالة ݣلميم جهة ݣلميم واد نون ساكنين فيها واحد على حسب لإحصاء لعام تعليم نسبة لأمية اس ما كايعرفوش يقراو ولا يكتبو نسبة كان قاريين فوق انوي تانوي جامعة اقتصاد نسبة اس شيطين يقدرو يخدمو نسبة لبطالة اس ما خدامينش تايقلبو على خدمة نسبة اس اللي خدامين ولة ولا لعاطلين اللي سبق ليهوم خدمو نسبة اس اللي خدامين في لقطاع لخاص ولا لعاطلين اللي سبق ليهوم خدمو عيون لكلام تصنيف جهة ݣلميم واد نون\n",
              "4                                                                                                                                                                                آنفݣ جماعة ترابية قروية كاينة إقليم عمالة سيدي إيفني جهة ݣلميم واد نون ساكنين فيها واحد على حسب لإحصاء لعام تعليم نسبة لأمية اس ما كايعرفوش يقراو ولا يكتبو نسبة كان قاريين فوق انوي تانوي جامعة اقتصاد نسبة اس شيطين يقدرو يخدمو نسبة لبطالة اس ما خدامينش تايقلبو على خدمة نسبة اس اللي خدامين ولة ولا لعاطلين اللي سبق ليهوم خدمو نسبة اس اللي خدامين في لقطاع لخاص ولا لعاطلين اللي سبق ليهوم خدمو عيون لكلام تصنيف جهة ݣلميم واد نون"
            ]
          },
          "metadata": {},
          "execution_count": 6
        }
      ]
    },
    {
      "cell_type": "markdown",
      "metadata": {
        "id": "SLOtTZHnpy2T"
      },
      "source": [
        "Subword tokenization refers to constructing our vocabulary using the most frequently occurring groups of letters, for instance, the word “transformer” could be split into “trans” and “former”. I find it better to use subword tokenization with a relatively smaller vocabulary size in the case of a small dataset, to avoid the p>>n problem (where the number of features exceeds the number of training examples), and also because if we decide to use words as our tokens, we are going to have a lot of words that appear only a few times throughout the corpus, and the model won’t be given a decent chance to learn about them.\n",
        "\n",
        "I use a maximum vocab size (max_vocab_sz) of 1000 but you can use less or more, its another hyperparamter you can tune based on the metric you care about.\n",
        "\n",
        "The data block API is provided by fastai to customize the creation of our dataloaders, `blocks` parameter is used to specify the type of our independent and dependent variables, when `TextBlock` is passed, fastai takes care of preprocessing for us, we just need to pass it our subword tokenizer since it uses word tokenization by default, we also tell fastai that we are building this for a language modeling with `is_lm` and that our text is in a dataframe.\n",
        "\n",
        "And finally we create our dataloaders, it's a dataloader with s because it includes the training and validation dataloaders.\n",
        "\n",
        "\n",
        "\n",
        "\n"
      ]
    },
    {
      "cell_type": "code",
      "metadata": {
        "colab": {
          "base_uri": "https://localhost:8080/",
          "height": 71
        },
        "id": "tLXupa8klOeg",
        "outputId": "6795953d-5e9c-4d35-9c10-d2e7f684c30d"
      },
      "source": [
        "bs=128\n",
        "\n",
        "tok = SubwordTokenizer(cache_dir=spm_path, max_vocab_sz=10_00)\n",
        "\n",
        "dls_lm = DataBlock(blocks=TextBlock.from_df('text', is_lm=True, tok=tok),\n",
        "                   splitter=RandomSplitter(0.1, seed=42),\n",
        "                   get_x=ColReader('text')\n",
        "                   ).dataloaders(df, bs=bs)"
      ],
      "execution_count": 7,
      "outputs": [
        {
          "output_type": "display_data",
          "data": {
            "text/html": [
              ""
            ],
            "text/plain": [
              "<IPython.core.display.HTML object>"
            ]
          },
          "metadata": {}
        },
        {
          "output_type": "display_data",
          "data": {
            "text/html": [
              ""
            ],
            "text/plain": [
              "<IPython.core.display.HTML object>"
            ]
          },
          "metadata": {}
        },
        {
          "output_type": "stream",
          "text": [
            "/usr/local/lib/python3.7/dist-packages/numpy/core/_asarray.py:83: VisibleDeprecationWarning: Creating an ndarray from ragged nested sequences (which is a list-or-tuple of lists-or-tuples-or ndarrays with different lengths or shapes) is deprecated. If you meant to do this, you must specify 'dtype=object' when creating the ndarray\n",
            "  return array(a, dtype, copy=False, order=order)\n"
          ],
          "name": "stderr"
        }
      ]
    },
    {
      "cell_type": "markdown",
      "metadata": {
        "id": "6jTEudzzXOZc"
      },
      "source": [
        "We save our dataloader since we can't afford to create it each time because of our huge dataset."
      ]
    },
    {
      "cell_type": "code",
      "metadata": {
        "id": "1HZVfQA9nxdK"
      },
      "source": [
        "torch.save(dls_lm, dls_path/'dls_lm.pkl')"
      ],
      "execution_count": 11,
      "outputs": []
    },
    {
      "cell_type": "markdown",
      "metadata": {
        "id": "IUo-BHGiX387"
      },
      "source": [
        "This is how our preprocessed text looks like, spaces in the original text are replaced by ▁, xxbos is a special token added by fastai to signify the beginning of a sentence, fastai also adds other special tokens to make learning easier for the model, we can see them when we check our vocab below."
      ]
    },
    {
      "cell_type": "code",
      "metadata": {
        "colab": {
          "base_uri": "https://localhost:8080/",
          "height": 541
        },
        "id": "VzAoCIz5rQ2d",
        "outputId": "f22c2f8c-52d0-40f3-8499-6a996f0834fd"
      },
      "source": [
        "dls_lm.show_batch(max_n=6)"
      ],
      "execution_count": 16,
      "outputs": [
        {
          "output_type": "display_data",
          "data": {
            "text/html": [
              "<table border=\"1\" class=\"dataframe\">\n",
              "  <thead>\n",
              "    <tr style=\"text-align: right;\">\n",
              "      <th></th>\n",
              "      <th>text</th>\n",
              "      <th>text_</th>\n",
              "    </tr>\n",
              "  </thead>\n",
              "  <tbody>\n",
              "    <tr>\n",
              "      <th>0</th>\n",
              "      <td>▁xxbos ▁لأعض اء ▁منضم ة ▁التعاون ▁شانݣ اي ▁لمنضم ة ▁التعاون ▁شانݣ اي ▁هي ▁منضم ة ▁دولية ▁سياسية ▁قتصاد ية ▁أمن ية ▁تأسس ات ▁نهار ▁ يونيو ▁شانݣ اي ▁من ▁لبلدان ▁هي ▁الشينوا ▁كازاخ ستان ▁ كيرݣي ستان ▁روسيا ▁ طادجيكي ستان ▁أوزباك ستان ▁هاد ▁لبلدان ▁كامل ة ▁من ▁غير ▁أوزباك ستان ▁كانت ▁داخل ة ▁مع ▁مجموع ة ▁شانݣ اي ▁لخ ماس ية ▁اللي ▁تأسس ات ▁أبر يل ▁شانݣ اي ▁نيت ▁من</td>\n",
              "      <td>▁لأعض اء ▁منضم ة ▁التعاون ▁شانݣ اي ▁لمنضم ة ▁التعاون ▁شانݣ اي ▁هي ▁منضم ة ▁دولية ▁سياسية ▁قتصاد ية ▁أمن ية ▁تأسس ات ▁نهار ▁ يونيو ▁شانݣ اي ▁من ▁لبلدان ▁هي ▁الشينوا ▁كازاخ ستان ▁ كيرݣي ستان ▁روسيا ▁ طادجيكي ستان ▁أوزباك ستان ▁هاد ▁لبلدان ▁كامل ة ▁من ▁غير ▁أوزباك ستان ▁كانت ▁داخل ة ▁مع ▁مجموع ة ▁شانݣ اي ▁لخ ماس ية ▁اللي ▁تأسس ات ▁أبر يل ▁شانݣ اي ▁نيت ▁من ▁داب</td>\n",
              "    </tr>\n",
              "    <tr>\n",
              "      <th>1</th>\n",
              "      <td>▁خت ها ▁زي ادا تان ▁لشي ▁أفلام ▁سينمائي ة ▁عيون ▁لكلام ▁تصنيف ▁ممتل ة ▁مغريبية ▁xxbos ▁محمد ▁مشا لي ▁تزاد ▁توف ى ▁يوليو ز ▁هو ▁طبيب ▁مصري ▁متخصص ▁طب ▁لباط ني ▁و تعرف ▁طبيب ▁لفقر اء ▁ݣ راف يتي ▁مدين ة ▁لمحمدي ة ▁لمغريب ▁داروه ▁مجموع ة ▁من ▁شباب ▁تكريم ا ▁طبيب ▁لمصري ▁محمد ▁مشا لي ▁نشرات و ▁ جريد ة ▁ال عمق ▁لقراي ة ▁تزاد ▁محمد ▁مشا لي ▁محافض ة ▁لبح</td>\n",
              "      <td>ها ▁زي ادا تان ▁لشي ▁أفلام ▁سينمائي ة ▁عيون ▁لكلام ▁تصنيف ▁ممتل ة ▁مغريبية ▁xxbos ▁محمد ▁مشا لي ▁تزاد ▁توف ى ▁يوليو ز ▁هو ▁طبيب ▁مصري ▁متخصص ▁طب ▁لباط ني ▁و تعرف ▁طبيب ▁لفقر اء ▁ݣ راف يتي ▁مدين ة ▁لمحمدي ة ▁لمغريب ▁داروه ▁مجموع ة ▁من ▁شباب ▁تكريم ا ▁طبيب ▁لمصري ▁محمد ▁مشا لي ▁نشرات و ▁ جريد ة ▁ال عمق ▁لقراي ة ▁تزاد ▁محمد ▁مشا لي ▁محافض ة ▁لبح ير</td>\n",
              "    </tr>\n",
              "    <tr>\n",
              "      <th>2</th>\n",
              "      <td>▁ محاكم ة ▁عادل ة ▁لحق ▁لحري ة ▁التعبير ▁لحق ▁لحباس ة ▁الت طبيب ▁ضروف ▁مزيان ة ▁ل حبس ▁لحق ▁ال تنظيم ▁ج ت ماع ات ▁عيون ▁لكلام ▁لمزا ود ▁لم وقع ▁ديال ▁لجمعي ة ▁لمغربي ة ▁لحقوق ▁لإنسان ▁تصنيف ▁حقوق ▁لإنسان ▁تصنيف ▁جمعي ة ▁مغريبية ▁xxbos ▁آݣد ز ▁جماع ة ▁ترابية ▁حضري ة ▁كاين ة ▁إقليم ▁عمال ة ▁زاݣور ة ▁جه ة ▁درع ا ▁تافيلالت ▁ساكنين ▁فيها ▁واحد ▁عل ى ▁حسب</td>\n",
              "      <td>محاكم ة ▁عادل ة ▁لحق ▁لحري ة ▁التعبير ▁لحق ▁لحباس ة ▁الت طبيب ▁ضروف ▁مزيان ة ▁ل حبس ▁لحق ▁ال تنظيم ▁ج ت ماع ات ▁عيون ▁لكلام ▁لمزا ود ▁لم وقع ▁ديال ▁لجمعي ة ▁لمغربي ة ▁لحقوق ▁لإنسان ▁تصنيف ▁حقوق ▁لإنسان ▁تصنيف ▁جمعي ة ▁مغريبية ▁xxbos ▁آݣد ز ▁جماع ة ▁ترابية ▁حضري ة ▁كاين ة ▁إقليم ▁عمال ة ▁زاݣور ة ▁جه ة ▁درع ا ▁تافيلالت ▁ساكنين ▁فيها ▁واحد ▁عل ى ▁حسب ▁ل</td>\n",
              "    </tr>\n",
              "    <tr>\n",
              "      <th>3</th>\n",
              "      <td>▁تايق لبو ▁عل ى ▁خدم ة ▁نسبة ▁اس ▁اللي ▁خدامين ▁ول ة ▁ولا ▁لعاط لين ▁اللي ▁سبق ▁ل يهوم ▁خدمو ▁نسبة ▁اس ▁اللي ▁خدامين ▁في ▁لقطاع ▁لخاص ▁ولا ▁لعاط لين ▁اللي ▁سبق ▁ل يهوم ▁خدمو ▁عيون ▁لكلام ▁تصنيف ▁جه ة ▁الرباط ▁سلا ▁القنيطرة ▁xxbos ▁پيك ين ▁لا ▁ب يجين ݣ ▁الشينوي ة ▁ 北 京 ▁هي ▁ل عاصم ة ▁ديال ▁الشينوا ▁تاني ▁أكب ر ▁مدين ة ▁فيها ▁مورا ▁شانݣ هاي ▁پيك ين</td>\n",
              "      <td>لبو ▁عل ى ▁خدم ة ▁نسبة ▁اس ▁اللي ▁خدامين ▁ول ة ▁ولا ▁لعاط لين ▁اللي ▁سبق ▁ل يهوم ▁خدمو ▁نسبة ▁اس ▁اللي ▁خدامين ▁في ▁لقطاع ▁لخاص ▁ولا ▁لعاط لين ▁اللي ▁سبق ▁ل يهوم ▁خدمو ▁عيون ▁لكلام ▁تصنيف ▁جه ة ▁الرباط ▁سلا ▁القنيطرة ▁xxbos ▁پيك ين ▁لا ▁ب يجين ݣ ▁الشينوي ة ▁ 北 京 ▁هي ▁ل عاصم ة ▁ديال ▁الشينوا ▁تاني ▁أكب ر ▁مدين ة ▁فيها ▁مورا ▁شانݣ هاي ▁پيك ين ▁هي</td>\n",
              "    </tr>\n",
              "    <tr>\n",
              "      <th>4</th>\n",
              "      <td>▁كامل ين ▁مع م ▁رين ▁أ جهز ة ▁لمراقب ة ▁ل حض ية ▁لخو ▁لكبير ▁عم ▁رو ▁ما ▁كايبان ▁ديما ▁كايت ص و ▁وجه ▁راجل ▁عندو ▁عام ▁ل اغ م ▁كايشوف ▁لعينين ▁ نيشان ▁واحد ▁كل ▁كاي ر هب ▁عل ى ▁حساب ▁يواي ة ▁سمي ة ▁لخو ▁لكبير ▁هو ▁أس ▁لحي زب ▁لوحيد ▁لبلاد ▁عندو ▁بز ▁اف ▁لبوطول ات ▁لإنجاز ات ▁الثور ية ▁لحرب ية ▁لقضي ة ▁ديال ▁أنه ▁كايبقا ▁ديما ▁صغير</td>\n",
              "      <td>ين ▁مع م ▁رين ▁أ جهز ة ▁لمراقب ة ▁ل حض ية ▁لخو ▁لكبير ▁عم ▁رو ▁ما ▁كايبان ▁ديما ▁كايت ص و ▁وجه ▁راجل ▁عندو ▁عام ▁ل اغ م ▁كايشوف ▁لعينين ▁ نيشان ▁واحد ▁كل ▁كاي ر هب ▁عل ى ▁حساب ▁يواي ة ▁سمي ة ▁لخو ▁لكبير ▁هو ▁أس ▁لحي زب ▁لوحيد ▁لبلاد ▁عندو ▁بز ▁اف ▁لبوطول ات ▁لإنجاز ات ▁الثور ية ▁لحرب ية ▁لقضي ة ▁ديال ▁أنه ▁كايبقا ▁ديما ▁صغير ▁سب</td>\n",
              "    </tr>\n",
              "    <tr>\n",
              "      <th>5</th>\n",
              "      <td>ة ▁تين غير ▁جه ة ▁درع ا ▁تافيلالت ▁ساكنين ▁فيها ▁واحد ▁عل ى ▁حسب ▁ل إحصاء ▁لعام ▁تعليم ▁نسبة ▁لأمي ة ▁اس ▁ما ▁كايعرفو ش ▁يقرا و ▁ولا ▁يكتب و ▁نسبة ▁كان ▁ قاريين ▁فوق ▁ انوي ▁تانوي ▁جامع ة ▁اقتصاد ▁نسبة ▁اس ▁شيط ين ▁ يقدرو ▁ يخدمو ▁نسبة ▁لبطال ة ▁اس ▁ما ▁خدامين ش ▁تايق لبو ▁عل ى ▁خدم ة ▁نسبة ▁اس ▁اللي ▁خدامين ▁ول ة ▁نسبة ▁اس ▁اللي ▁خدامين</td>\n",
              "      <td>▁تين غير ▁جه ة ▁درع ا ▁تافيلالت ▁ساكنين ▁فيها ▁واحد ▁عل ى ▁حسب ▁ل إحصاء ▁لعام ▁تعليم ▁نسبة ▁لأمي ة ▁اس ▁ما ▁كايعرفو ش ▁يقرا و ▁ولا ▁يكتب و ▁نسبة ▁كان ▁ قاريين ▁فوق ▁ انوي ▁تانوي ▁جامع ة ▁اقتصاد ▁نسبة ▁اس ▁شيط ين ▁ يقدرو ▁ يخدمو ▁نسبة ▁لبطال ة ▁اس ▁ما ▁خدامين ش ▁تايق لبو ▁عل ى ▁خدم ة ▁نسبة ▁اس ▁اللي ▁خدامين ▁ول ة ▁نسبة ▁اس ▁اللي ▁خدامين ▁في</td>\n",
              "    </tr>\n",
              "  </tbody>\n",
              "</table>"
            ],
            "text/plain": [
              "<IPython.core.display.HTML object>"
            ]
          },
          "metadata": {}
        }
      ]
    },
    {
      "cell_type": "code",
      "metadata": {
        "colab": {
          "base_uri": "https://localhost:8080/"
        },
        "id": "DkQ_0RgCjReb",
        "outputId": "defc86a4-a47c-408a-dc7e-2519ce530da6"
      },
      "source": [
        "print(dls_lm.vocab[:20])"
      ],
      "execution_count": 17,
      "outputs": [
        {
          "output_type": "stream",
          "text": [
            "['xxunk', 'xxpad', 'xxbos', 'xxeos', 'xxfld', 'xxrep', 'xxwrep', 'xxup', 'xxmaj', 'ة', '▁', '▁ل', 'و', '▁ديال', '▁ال', '▁اللي', 'ات', 'ا', '▁نسبة', '▁من']\n"
          ],
          "name": "stdout"
        }
      ]
    },
    {
      "cell_type": "code",
      "metadata": {
        "id": "wbFfdXaproHN",
        "colab": {
          "base_uri": "https://localhost:8080/"
        },
        "outputId": "6d1c0a39-86a6-4bac-b7d6-b724b179b64c"
      },
      "source": [
        "learn = language_model_learner(dls_lm, AWD_LSTM, \n",
        "    metrics=[accuracy, Perplexity()], pretrained=False)"
      ],
      "execution_count": 10,
      "outputs": [
        {
          "output_type": "stream",
          "text": [
            "/usr/local/lib/python3.7/dist-packages/torch/cuda/amp/autocast_mode.py:120: UserWarning: torch.cuda.amp.autocast only affects CUDA ops, but CUDA is not available.  Disabling.\n",
            "  warnings.warn(\"torch.cuda.amp.autocast only affects CUDA ops, but CUDA is not available.  Disabling.\")\n"
          ],
          "name": "stderr"
        }
      ]
    },
    {
      "cell_type": "code",
      "metadata": {
        "colab": {
          "base_uri": "https://localhost:8080/",
          "height": 111
        },
        "id": "6AFLisvBviZF",
        "outputId": "5b53993f-ef98-4a1b-f112-27ac85e79094"
      },
      "source": [
        "learn.lr_find()"
      ],
      "execution_count": null,
      "outputs": [
        {
          "output_type": "stream",
          "text": [
            "/usr/local/lib/python3.7/dist-packages/torch/cuda/amp/grad_scaler.py:115: UserWarning: torch.cuda.amp.GradScaler is enabled, but CUDA is not available.  Disabling.\n",
            "  warnings.warn(\"torch.cuda.amp.GradScaler is enabled, but CUDA is not available.  Disabling.\")\n"
          ],
          "name": "stderr"
        },
        {
          "output_type": "display_data",
          "data": {
            "text/html": [
              "\n",
              "    <div>\n",
              "        <style>\n",
              "            /* Turns off some styling */\n",
              "            progress {\n",
              "                /* gets rid of default border in Firefox and Opera. */\n",
              "                border: none;\n",
              "                /* Needs to be in here for Safari polyfill so background images work as expected. */\n",
              "                background-size: auto;\n",
              "            }\n",
              "            .progress-bar-interrupted, .progress-bar-interrupted::-webkit-progress-bar {\n",
              "                background: #F44336;\n",
              "            }\n",
              "        </style>\n",
              "      <progress value='0' class='' max='5' style='width:300px; height:20px; vertical-align: middle;'></progress>\n",
              "      0.00% [0/5 00:00<00:00]\n",
              "    </div>\n",
              "    \n",
              "\n",
              "\n",
              "    <div>\n",
              "        <style>\n",
              "            /* Turns off some styling */\n",
              "            progress {\n",
              "                /* gets rid of default border in Firefox and Opera. */\n",
              "                border: none;\n",
              "                /* Needs to be in here for Safari polyfill so background images work as expected. */\n",
              "                background-size: auto;\n",
              "            }\n",
              "            .progress-bar-interrupted, .progress-bar-interrupted::-webkit-progress-bar {\n",
              "                background: #F44336;\n",
              "            }\n",
              "        </style>\n",
              "      <progress value='0' class='' max='24' style='width:300px; height:20px; vertical-align: middle;'></progress>\n",
              "      0.00% [0/24 00:00<00:00]\n",
              "    </div>\n",
              "    "
            ],
            "text/plain": [
              "<IPython.core.display.HTML object>"
            ]
          },
          "metadata": {}
        }
      ]
    },
    {
      "cell_type": "code",
      "metadata": {
        "colab": {
          "base_uri": "https://localhost:8080/",
          "height": 1000
        },
        "id": "fB4M1dl1sO7c",
        "outputId": "f057d8e3-27c1-48e4-b751-438d9a9f81fc"
      },
      "source": [
        "learn.unfreeze()\n",
        "learn.fit_one_cycle(100, 1e-2)"
      ],
      "execution_count": null,
      "outputs": [
        {
          "output_type": "display_data",
          "data": {
            "text/html": [
              "<table border=\"1\" class=\"dataframe\">\n",
              "  <thead>\n",
              "    <tr style=\"text-align: left;\">\n",
              "      <th>epoch</th>\n",
              "      <th>train_loss</th>\n",
              "      <th>valid_loss</th>\n",
              "      <th>accuracy</th>\n",
              "      <th>perplexity</th>\n",
              "      <th>time</th>\n",
              "    </tr>\n",
              "  </thead>\n",
              "  <tbody>\n",
              "    <tr>\n",
              "      <td>0</td>\n",
              "      <td>5.834657</td>\n",
              "      <td>5.780706</td>\n",
              "      <td>0.050297</td>\n",
              "      <td>323.987976</td>\n",
              "      <td>00:27</td>\n",
              "    </tr>\n",
              "    <tr>\n",
              "      <td>1</td>\n",
              "      <td>5.786645</td>\n",
              "      <td>5.777408</td>\n",
              "      <td>0.046491</td>\n",
              "      <td>322.920990</td>\n",
              "      <td>00:27</td>\n",
              "    </tr>\n",
              "    <tr>\n",
              "      <td>2</td>\n",
              "      <td>5.771509</td>\n",
              "      <td>5.716337</td>\n",
              "      <td>0.057275</td>\n",
              "      <td>303.790161</td>\n",
              "      <td>00:26</td>\n",
              "    </tr>\n",
              "    <tr>\n",
              "      <td>3</td>\n",
              "      <td>5.335208</td>\n",
              "      <td>5.050761</td>\n",
              "      <td>0.110819</td>\n",
              "      <td>156.141281</td>\n",
              "      <td>00:26</td>\n",
              "    </tr>\n",
              "    <tr>\n",
              "      <td>4</td>\n",
              "      <td>4.643136</td>\n",
              "      <td>4.369634</td>\n",
              "      <td>0.198885</td>\n",
              "      <td>79.014679</td>\n",
              "      <td>00:26</td>\n",
              "    </tr>\n",
              "    <tr>\n",
              "      <td>5</td>\n",
              "      <td>4.215887</td>\n",
              "      <td>4.142004</td>\n",
              "      <td>0.225452</td>\n",
              "      <td>62.928776</td>\n",
              "      <td>00:26</td>\n",
              "    </tr>\n",
              "    <tr>\n",
              "      <td>6</td>\n",
              "      <td>3.989751</td>\n",
              "      <td>3.972366</td>\n",
              "      <td>0.243707</td>\n",
              "      <td>53.110031</td>\n",
              "      <td>00:26</td>\n",
              "    </tr>\n",
              "    <tr>\n",
              "      <td>7</td>\n",
              "      <td>3.835457</td>\n",
              "      <td>3.810618</td>\n",
              "      <td>0.269873</td>\n",
              "      <td>45.178349</td>\n",
              "      <td>00:26</td>\n",
              "    </tr>\n",
              "    <tr>\n",
              "      <td>8</td>\n",
              "      <td>3.643807</td>\n",
              "      <td>3.611234</td>\n",
              "      <td>0.298628</td>\n",
              "      <td>37.011711</td>\n",
              "      <td>00:26</td>\n",
              "    </tr>\n",
              "    <tr>\n",
              "      <td>9</td>\n",
              "      <td>3.452805</td>\n",
              "      <td>3.463478</td>\n",
              "      <td>0.321055</td>\n",
              "      <td>31.927832</td>\n",
              "      <td>00:26</td>\n",
              "    </tr>\n",
              "    <tr>\n",
              "      <td>10</td>\n",
              "      <td>3.270783</td>\n",
              "      <td>3.327179</td>\n",
              "      <td>0.344084</td>\n",
              "      <td>27.859652</td>\n",
              "      <td>00:26</td>\n",
              "    </tr>\n",
              "    <tr>\n",
              "      <td>11</td>\n",
              "      <td>3.163763</td>\n",
              "      <td>3.232886</td>\n",
              "      <td>0.359108</td>\n",
              "      <td>25.352715</td>\n",
              "      <td>00:26</td>\n",
              "    </tr>\n",
              "    <tr>\n",
              "      <td>12</td>\n",
              "      <td>3.045434</td>\n",
              "      <td>3.159597</td>\n",
              "      <td>0.370843</td>\n",
              "      <td>23.561092</td>\n",
              "      <td>00:26</td>\n",
              "    </tr>\n",
              "    <tr>\n",
              "      <td>13</td>\n",
              "      <td>2.966490</td>\n",
              "      <td>3.126066</td>\n",
              "      <td>0.377128</td>\n",
              "      <td>22.784180</td>\n",
              "      <td>00:26</td>\n",
              "    </tr>\n",
              "    <tr>\n",
              "      <td>14</td>\n",
              "      <td>2.902631</td>\n",
              "      <td>3.073609</td>\n",
              "      <td>0.385408</td>\n",
              "      <td>21.619785</td>\n",
              "      <td>00:26</td>\n",
              "    </tr>\n",
              "    <tr>\n",
              "      <td>15</td>\n",
              "      <td>2.820757</td>\n",
              "      <td>3.046120</td>\n",
              "      <td>0.389740</td>\n",
              "      <td>21.033569</td>\n",
              "      <td>00:26</td>\n",
              "    </tr>\n",
              "    <tr>\n",
              "      <td>16</td>\n",
              "      <td>2.777062</td>\n",
              "      <td>3.038635</td>\n",
              "      <td>0.390358</td>\n",
              "      <td>20.876738</td>\n",
              "      <td>00:26</td>\n",
              "    </tr>\n",
              "    <tr>\n",
              "      <td>17</td>\n",
              "      <td>2.769229</td>\n",
              "      <td>3.030882</td>\n",
              "      <td>0.392879</td>\n",
              "      <td>20.715488</td>\n",
              "      <td>00:26</td>\n",
              "    </tr>\n",
              "    <tr>\n",
              "      <td>18</td>\n",
              "      <td>2.796158</td>\n",
              "      <td>3.030480</td>\n",
              "      <td>0.392528</td>\n",
              "      <td>20.707178</td>\n",
              "      <td>00:26</td>\n",
              "    </tr>\n",
              "    <tr>\n",
              "      <td>19</td>\n",
              "      <td>2.793638</td>\n",
              "      <td>3.011434</td>\n",
              "      <td>0.396384</td>\n",
              "      <td>20.316509</td>\n",
              "      <td>00:26</td>\n",
              "    </tr>\n",
              "    <tr>\n",
              "      <td>20</td>\n",
              "      <td>2.783323</td>\n",
              "      <td>3.030766</td>\n",
              "      <td>0.389189</td>\n",
              "      <td>20.713087</td>\n",
              "      <td>00:26</td>\n",
              "    </tr>\n",
              "    <tr>\n",
              "      <td>21</td>\n",
              "      <td>2.814245</td>\n",
              "      <td>3.043278</td>\n",
              "      <td>0.392528</td>\n",
              "      <td>20.973883</td>\n",
              "      <td>00:26</td>\n",
              "    </tr>\n",
              "    <tr>\n",
              "      <td>22</td>\n",
              "      <td>2.837232</td>\n",
              "      <td>3.032581</td>\n",
              "      <td>0.391360</td>\n",
              "      <td>20.750729</td>\n",
              "      <td>00:26</td>\n",
              "    </tr>\n",
              "    <tr>\n",
              "      <td>23</td>\n",
              "      <td>2.936250</td>\n",
              "      <td>3.106416</td>\n",
              "      <td>0.380500</td>\n",
              "      <td>22.340832</td>\n",
              "      <td>00:26</td>\n",
              "    </tr>\n",
              "    <tr>\n",
              "      <td>24</td>\n",
              "      <td>2.947105</td>\n",
              "      <td>3.058279</td>\n",
              "      <td>0.389131</td>\n",
              "      <td>21.290874</td>\n",
              "      <td>00:26</td>\n",
              "    </tr>\n",
              "    <tr>\n",
              "      <td>25</td>\n",
              "      <td>2.898855</td>\n",
              "      <td>3.050217</td>\n",
              "      <td>0.388305</td>\n",
              "      <td>21.119930</td>\n",
              "      <td>00:26</td>\n",
              "    </tr>\n",
              "    <tr>\n",
              "      <td>26</td>\n",
              "      <td>2.894289</td>\n",
              "      <td>3.040450</td>\n",
              "      <td>0.390124</td>\n",
              "      <td>20.914650</td>\n",
              "      <td>00:26</td>\n",
              "    </tr>\n",
              "    <tr>\n",
              "      <td>27</td>\n",
              "      <td>2.872150</td>\n",
              "      <td>3.036854</td>\n",
              "      <td>0.391802</td>\n",
              "      <td>20.839584</td>\n",
              "      <td>00:26</td>\n",
              "    </tr>\n",
              "    <tr>\n",
              "      <td>28</td>\n",
              "      <td>2.889433</td>\n",
              "      <td>3.027228</td>\n",
              "      <td>0.394306</td>\n",
              "      <td>20.639946</td>\n",
              "      <td>00:26</td>\n",
              "    </tr>\n",
              "    <tr>\n",
              "      <td>29</td>\n",
              "      <td>2.867410</td>\n",
              "      <td>3.006690</td>\n",
              "      <td>0.397544</td>\n",
              "      <td>20.220360</td>\n",
              "      <td>00:26</td>\n",
              "    </tr>\n",
              "    <tr>\n",
              "      <td>30</td>\n",
              "      <td>2.862009</td>\n",
              "      <td>3.016624</td>\n",
              "      <td>0.393505</td>\n",
              "      <td>20.422239</td>\n",
              "      <td>00:26</td>\n",
              "    </tr>\n",
              "    <tr>\n",
              "      <td>31</td>\n",
              "      <td>2.810327</td>\n",
              "      <td>2.991279</td>\n",
              "      <td>0.399030</td>\n",
              "      <td>19.911135</td>\n",
              "      <td>00:26</td>\n",
              "    </tr>\n",
              "    <tr>\n",
              "      <td>32</td>\n",
              "      <td>2.792699</td>\n",
              "      <td>2.978555</td>\n",
              "      <td>0.400232</td>\n",
              "      <td>19.659397</td>\n",
              "      <td>00:26</td>\n",
              "    </tr>\n",
              "    <tr>\n",
              "      <td>33</td>\n",
              "      <td>2.754105</td>\n",
              "      <td>2.975938</td>\n",
              "      <td>0.403512</td>\n",
              "      <td>19.608009</td>\n",
              "      <td>00:26</td>\n",
              "    </tr>\n",
              "    <tr>\n",
              "      <td>34</td>\n",
              "      <td>2.734813</td>\n",
              "      <td>2.960950</td>\n",
              "      <td>0.403996</td>\n",
              "      <td>19.316311</td>\n",
              "      <td>00:26</td>\n",
              "    </tr>\n",
              "    <tr>\n",
              "      <td>35</td>\n",
              "      <td>2.723893</td>\n",
              "      <td>2.951143</td>\n",
              "      <td>0.405866</td>\n",
              "      <td>19.127806</td>\n",
              "      <td>00:26</td>\n",
              "    </tr>\n",
              "    <tr>\n",
              "      <td>36</td>\n",
              "      <td>2.699175</td>\n",
              "      <td>2.936934</td>\n",
              "      <td>0.405415</td>\n",
              "      <td>18.857944</td>\n",
              "      <td>00:26</td>\n",
              "    </tr>\n",
              "    <tr>\n",
              "      <td>37</td>\n",
              "      <td>2.665997</td>\n",
              "      <td>2.928869</td>\n",
              "      <td>0.409054</td>\n",
              "      <td>18.706461</td>\n",
              "      <td>00:26</td>\n",
              "    </tr>\n",
              "    <tr>\n",
              "      <td>38</td>\n",
              "      <td>2.654328</td>\n",
              "      <td>2.930508</td>\n",
              "      <td>0.410215</td>\n",
              "      <td>18.737141</td>\n",
              "      <td>00:26</td>\n",
              "    </tr>\n",
              "    <tr>\n",
              "      <td>39</td>\n",
              "      <td>2.636740</td>\n",
              "      <td>2.919134</td>\n",
              "      <td>0.410332</td>\n",
              "      <td>18.525244</td>\n",
              "      <td>00:26</td>\n",
              "    </tr>\n",
              "    <tr>\n",
              "      <td>40</td>\n",
              "      <td>2.618056</td>\n",
              "      <td>2.898964</td>\n",
              "      <td>0.415306</td>\n",
              "      <td>18.155334</td>\n",
              "      <td>00:26</td>\n",
              "    </tr>\n",
              "    <tr>\n",
              "      <td>41</td>\n",
              "      <td>2.591700</td>\n",
              "      <td>2.903557</td>\n",
              "      <td>0.415173</td>\n",
              "      <td>18.238911</td>\n",
              "      <td>00:26</td>\n",
              "    </tr>\n",
              "    <tr>\n",
              "      <td>42</td>\n",
              "      <td>2.570820</td>\n",
              "      <td>2.898409</td>\n",
              "      <td>0.416867</td>\n",
              "      <td>18.145260</td>\n",
              "      <td>00:26</td>\n",
              "    </tr>\n",
              "    <tr>\n",
              "      <td>43</td>\n",
              "      <td>2.565726</td>\n",
              "      <td>2.887301</td>\n",
              "      <td>0.418194</td>\n",
              "      <td>17.944815</td>\n",
              "      <td>00:26</td>\n",
              "    </tr>\n",
              "    <tr>\n",
              "      <td>44</td>\n",
              "      <td>2.519047</td>\n",
              "      <td>2.891924</td>\n",
              "      <td>0.418954</td>\n",
              "      <td>18.027956</td>\n",
              "      <td>00:26</td>\n",
              "    </tr>\n",
              "    <tr>\n",
              "      <td>45</td>\n",
              "      <td>2.512617</td>\n",
              "      <td>2.878029</td>\n",
              "      <td>0.422309</td>\n",
              "      <td>17.779202</td>\n",
              "      <td>00:26</td>\n",
              "    </tr>\n",
              "    <tr>\n",
              "      <td>46</td>\n",
              "      <td>2.476611</td>\n",
              "      <td>2.871087</td>\n",
              "      <td>0.422760</td>\n",
              "      <td>17.656193</td>\n",
              "      <td>00:26</td>\n",
              "    </tr>\n",
              "    <tr>\n",
              "      <td>47</td>\n",
              "      <td>2.476407</td>\n",
              "      <td>2.859713</td>\n",
              "      <td>0.424095</td>\n",
              "      <td>17.456518</td>\n",
              "      <td>00:26</td>\n",
              "    </tr>\n",
              "    <tr>\n",
              "      <td>48</td>\n",
              "      <td>2.461777</td>\n",
              "      <td>2.860327</td>\n",
              "      <td>0.425197</td>\n",
              "      <td>17.467230</td>\n",
              "      <td>00:26</td>\n",
              "    </tr>\n",
              "    <tr>\n",
              "      <td>49</td>\n",
              "      <td>2.427959</td>\n",
              "      <td>2.855028</td>\n",
              "      <td>0.427058</td>\n",
              "      <td>17.374922</td>\n",
              "      <td>00:26</td>\n",
              "    </tr>\n",
              "    <tr>\n",
              "      <td>50</td>\n",
              "      <td>2.423167</td>\n",
              "      <td>2.854318</td>\n",
              "      <td>0.426950</td>\n",
              "      <td>17.362591</td>\n",
              "      <td>00:26</td>\n",
              "    </tr>\n",
              "    <tr>\n",
              "      <td>51</td>\n",
              "      <td>2.403222</td>\n",
              "      <td>2.848868</td>\n",
              "      <td>0.428544</td>\n",
              "      <td>17.268225</td>\n",
              "      <td>00:26</td>\n",
              "    </tr>\n",
              "    <tr>\n",
              "      <td>52</td>\n",
              "      <td>2.364372</td>\n",
              "      <td>2.843947</td>\n",
              "      <td>0.429779</td>\n",
              "      <td>17.183455</td>\n",
              "      <td>00:26</td>\n",
              "    </tr>\n",
              "    <tr>\n",
              "      <td>53</td>\n",
              "      <td>2.362134</td>\n",
              "      <td>2.845242</td>\n",
              "      <td>0.429863</td>\n",
              "      <td>17.205723</td>\n",
              "      <td>00:26</td>\n",
              "    </tr>\n",
              "    <tr>\n",
              "      <td>54</td>\n",
              "      <td>2.346170</td>\n",
              "      <td>2.838448</td>\n",
              "      <td>0.431757</td>\n",
              "      <td>17.089224</td>\n",
              "      <td>00:26</td>\n",
              "    </tr>\n",
              "    <tr>\n",
              "      <td>55</td>\n",
              "      <td>2.329833</td>\n",
              "      <td>2.831658</td>\n",
              "      <td>0.433076</td>\n",
              "      <td>16.973577</td>\n",
              "      <td>00:26</td>\n",
              "    </tr>\n",
              "    <tr>\n",
              "      <td>56</td>\n",
              "      <td>2.304311</td>\n",
              "      <td>2.836959</td>\n",
              "      <td>0.432409</td>\n",
              "      <td>17.063789</td>\n",
              "      <td>00:26</td>\n",
              "    </tr>\n",
              "    <tr>\n",
              "      <td>57</td>\n",
              "      <td>2.300721</td>\n",
              "      <td>2.836190</td>\n",
              "      <td>0.434120</td>\n",
              "      <td>17.050686</td>\n",
              "      <td>00:26</td>\n",
              "    </tr>\n",
              "    <tr>\n",
              "      <td>58</td>\n",
              "      <td>2.285471</td>\n",
              "      <td>2.830706</td>\n",
              "      <td>0.435555</td>\n",
              "      <td>16.957430</td>\n",
              "      <td>00:26</td>\n",
              "    </tr>\n",
              "    <tr>\n",
              "      <td>59</td>\n",
              "      <td>2.256822</td>\n",
              "      <td>2.834683</td>\n",
              "      <td>0.434796</td>\n",
              "      <td>17.025009</td>\n",
              "      <td>00:26</td>\n",
              "    </tr>\n",
              "    <tr>\n",
              "      <td>60</td>\n",
              "      <td>2.243629</td>\n",
              "      <td>2.833736</td>\n",
              "      <td>0.435964</td>\n",
              "      <td>17.008886</td>\n",
              "      <td>00:26</td>\n",
              "    </tr>\n",
              "    <tr>\n",
              "      <td>61</td>\n",
              "      <td>2.218404</td>\n",
              "      <td>2.830714</td>\n",
              "      <td>0.437133</td>\n",
              "      <td>16.957567</td>\n",
              "      <td>00:29</td>\n",
              "    </tr>\n",
              "    <tr>\n",
              "      <td>62</td>\n",
              "      <td>2.175385</td>\n",
              "      <td>2.835139</td>\n",
              "      <td>0.437784</td>\n",
              "      <td>17.032772</td>\n",
              "      <td>00:26</td>\n",
              "    </tr>\n",
              "    <tr>\n",
              "      <td>63</td>\n",
              "      <td>2.158951</td>\n",
              "      <td>2.826954</td>\n",
              "      <td>0.436966</td>\n",
              "      <td>16.893930</td>\n",
              "      <td>00:26</td>\n",
              "    </tr>\n",
              "    <tr>\n",
              "      <td>64</td>\n",
              "      <td>2.163277</td>\n",
              "      <td>2.830947</td>\n",
              "      <td>0.437759</td>\n",
              "      <td>16.961510</td>\n",
              "      <td>00:26</td>\n",
              "    </tr>\n",
              "    <tr>\n",
              "      <td>65</td>\n",
              "      <td>2.142468</td>\n",
              "      <td>2.824928</td>\n",
              "      <td>0.439837</td>\n",
              "      <td>16.859735</td>\n",
              "      <td>00:26</td>\n",
              "    </tr>\n",
              "    <tr>\n",
              "      <td>66</td>\n",
              "      <td>2.131182</td>\n",
              "      <td>2.832768</td>\n",
              "      <td>0.439620</td>\n",
              "      <td>16.992439</td>\n",
              "      <td>00:26</td>\n",
              "    </tr>\n",
              "    <tr>\n",
              "      <td>67</td>\n",
              "      <td>2.105347</td>\n",
              "      <td>2.835190</td>\n",
              "      <td>0.440113</td>\n",
              "      <td>17.033638</td>\n",
              "      <td>00:26</td>\n",
              "    </tr>\n",
              "    <tr>\n",
              "      <td>68</td>\n",
              "      <td>2.092000</td>\n",
              "      <td>2.836043</td>\n",
              "      <td>0.438911</td>\n",
              "      <td>17.048178</td>\n",
              "      <td>00:26</td>\n",
              "    </tr>\n",
              "    <tr>\n",
              "      <td>69</td>\n",
              "      <td>2.090728</td>\n",
              "      <td>2.829720</td>\n",
              "      <td>0.441022</td>\n",
              "      <td>16.940714</td>\n",
              "      <td>00:26</td>\n",
              "    </tr>\n",
              "    <tr>\n",
              "      <td>70</td>\n",
              "      <td>2.069707</td>\n",
              "      <td>2.839312</td>\n",
              "      <td>0.442299</td>\n",
              "      <td>17.104000</td>\n",
              "      <td>00:26</td>\n",
              "    </tr>\n",
              "    <tr>\n",
              "      <td>71</td>\n",
              "      <td>2.044070</td>\n",
              "      <td>2.838725</td>\n",
              "      <td>0.442825</td>\n",
              "      <td>17.093950</td>\n",
              "      <td>00:26</td>\n",
              "    </tr>\n",
              "    <tr>\n",
              "      <td>72</td>\n",
              "      <td>2.038418</td>\n",
              "      <td>2.836995</td>\n",
              "      <td>0.443359</td>\n",
              "      <td>17.064417</td>\n",
              "      <td>00:29</td>\n",
              "    </tr>\n",
              "    <tr>\n",
              "      <td>73</td>\n",
              "      <td>2.028739</td>\n",
              "      <td>2.839885</td>\n",
              "      <td>0.442934</td>\n",
              "      <td>17.113806</td>\n",
              "      <td>00:26</td>\n",
              "    </tr>\n",
              "    <tr>\n",
              "      <td>74</td>\n",
              "      <td>2.015540</td>\n",
              "      <td>2.840894</td>\n",
              "      <td>0.443176</td>\n",
              "      <td>17.131083</td>\n",
              "      <td>00:26</td>\n",
              "    </tr>\n",
              "    <tr>\n",
              "      <td>75</td>\n",
              "      <td>1.994676</td>\n",
              "      <td>2.840110</td>\n",
              "      <td>0.444603</td>\n",
              "      <td>17.117641</td>\n",
              "      <td>00:26</td>\n",
              "    </tr>\n",
              "    <tr>\n",
              "      <td>76</td>\n",
              "      <td>1.978677</td>\n",
              "      <td>2.847067</td>\n",
              "      <td>0.444061</td>\n",
              "      <td>17.237144</td>\n",
              "      <td>00:26</td>\n",
              "    </tr>\n",
              "    <tr>\n",
              "      <td>77</td>\n",
              "      <td>1.965618</td>\n",
              "      <td>2.847578</td>\n",
              "      <td>0.443393</td>\n",
              "      <td>17.245958</td>\n",
              "      <td>00:26</td>\n",
              "    </tr>\n",
              "    <tr>\n",
              "      <td>78</td>\n",
              "      <td>1.946630</td>\n",
              "      <td>2.845117</td>\n",
              "      <td>0.443985</td>\n",
              "      <td>17.203577</td>\n",
              "      <td>00:26</td>\n",
              "    </tr>\n",
              "    <tr>\n",
              "      <td>79</td>\n",
              "      <td>1.955866</td>\n",
              "      <td>2.846086</td>\n",
              "      <td>0.444578</td>\n",
              "      <td>17.220251</td>\n",
              "      <td>00:26</td>\n",
              "    </tr>\n",
              "    <tr>\n",
              "      <td>80</td>\n",
              "      <td>1.925109</td>\n",
              "      <td>2.845089</td>\n",
              "      <td>0.445646</td>\n",
              "      <td>17.203085</td>\n",
              "      <td>00:26</td>\n",
              "    </tr>\n",
              "    <tr>\n",
              "      <td>81</td>\n",
              "      <td>1.920809</td>\n",
              "      <td>2.849102</td>\n",
              "      <td>0.445755</td>\n",
              "      <td>17.272268</td>\n",
              "      <td>00:26</td>\n",
              "    </tr>\n",
              "    <tr>\n",
              "      <td>82</td>\n",
              "      <td>1.903838</td>\n",
              "      <td>2.847912</td>\n",
              "      <td>0.445763</td>\n",
              "      <td>17.251720</td>\n",
              "      <td>00:26</td>\n",
              "    </tr>\n",
              "    <tr>\n",
              "      <td>83</td>\n",
              "      <td>1.906474</td>\n",
              "      <td>2.852767</td>\n",
              "      <td>0.446406</td>\n",
              "      <td>17.335674</td>\n",
              "      <td>00:26</td>\n",
              "    </tr>\n",
              "    <tr>\n",
              "      <td>84</td>\n",
              "      <td>1.904742</td>\n",
              "      <td>2.848892</td>\n",
              "      <td>0.446080</td>\n",
              "      <td>17.268641</td>\n",
              "      <td>00:26</td>\n",
              "    </tr>\n",
              "    <tr>\n",
              "      <td>85</td>\n",
              "      <td>1.904142</td>\n",
              "      <td>2.850545</td>\n",
              "      <td>0.446531</td>\n",
              "      <td>17.297205</td>\n",
              "      <td>00:26</td>\n",
              "    </tr>\n",
              "    <tr>\n",
              "      <td>86</td>\n",
              "      <td>1.877277</td>\n",
              "      <td>2.851864</td>\n",
              "      <td>0.446239</td>\n",
              "      <td>17.320030</td>\n",
              "      <td>00:26</td>\n",
              "    </tr>\n",
              "    <tr>\n",
              "      <td>87</td>\n",
              "      <td>1.874297</td>\n",
              "      <td>2.851761</td>\n",
              "      <td>0.446356</td>\n",
              "      <td>17.318247</td>\n",
              "      <td>00:26</td>\n",
              "    </tr>\n",
              "    <tr>\n",
              "      <td>88</td>\n",
              "      <td>1.869577</td>\n",
              "      <td>2.852247</td>\n",
              "      <td>0.446481</td>\n",
              "      <td>17.326664</td>\n",
              "      <td>00:26</td>\n",
              "    </tr>\n",
              "    <tr>\n",
              "      <td>89</td>\n",
              "      <td>1.859170</td>\n",
              "      <td>2.852836</td>\n",
              "      <td>0.446907</td>\n",
              "      <td>17.336874</td>\n",
              "      <td>00:26</td>\n",
              "    </tr>\n",
              "    <tr>\n",
              "      <td>90</td>\n",
              "      <td>1.851207</td>\n",
              "      <td>2.854492</td>\n",
              "      <td>0.446556</td>\n",
              "      <td>17.365616</td>\n",
              "      <td>00:26</td>\n",
              "    </tr>\n",
              "    <tr>\n",
              "      <td>91</td>\n",
              "      <td>1.852747</td>\n",
              "      <td>2.855567</td>\n",
              "      <td>0.446957</td>\n",
              "      <td>17.384291</td>\n",
              "      <td>00:26</td>\n",
              "    </tr>\n",
              "    <tr>\n",
              "      <td>92</td>\n",
              "      <td>1.856752</td>\n",
              "      <td>2.856290</td>\n",
              "      <td>0.446907</td>\n",
              "      <td>17.396866</td>\n",
              "      <td>00:26</td>\n",
              "    </tr>\n",
              "    <tr>\n",
              "      <td>93</td>\n",
              "      <td>1.838363</td>\n",
              "      <td>2.855285</td>\n",
              "      <td>0.446631</td>\n",
              "      <td>17.379396</td>\n",
              "      <td>00:26</td>\n",
              "    </tr>\n",
              "    <tr>\n",
              "      <td>94</td>\n",
              "      <td>1.844568</td>\n",
              "      <td>2.856256</td>\n",
              "      <td>0.446957</td>\n",
              "      <td>17.396278</td>\n",
              "      <td>00:26</td>\n",
              "    </tr>\n",
              "    <tr>\n",
              "      <td>95</td>\n",
              "      <td>1.836987</td>\n",
              "      <td>2.856410</td>\n",
              "      <td>0.446890</td>\n",
              "      <td>17.398949</td>\n",
              "      <td>00:26</td>\n",
              "    </tr>\n",
              "    <tr>\n",
              "      <td>96</td>\n",
              "      <td>1.850361</td>\n",
              "      <td>2.856547</td>\n",
              "      <td>0.446815</td>\n",
              "      <td>17.401339</td>\n",
              "      <td>00:26</td>\n",
              "    </tr>\n",
              "    <tr>\n",
              "      <td>97</td>\n",
              "      <td>1.855371</td>\n",
              "      <td>2.856554</td>\n",
              "      <td>0.446882</td>\n",
              "      <td>17.401455</td>\n",
              "      <td>00:26</td>\n",
              "    </tr>\n",
              "    <tr>\n",
              "      <td>98</td>\n",
              "      <td>1.837600</td>\n",
              "      <td>2.856627</td>\n",
              "      <td>0.446890</td>\n",
              "      <td>17.402733</td>\n",
              "      <td>00:26</td>\n",
              "    </tr>\n",
              "    <tr>\n",
              "      <td>99</td>\n",
              "      <td>1.841990</td>\n",
              "      <td>2.856612</td>\n",
              "      <td>0.446890</td>\n",
              "      <td>17.402472</td>\n",
              "      <td>00:26</td>\n",
              "    </tr>\n",
              "  </tbody>\n",
              "</table>"
            ],
            "text/plain": [
              "<IPython.core.display.HTML object>"
            ]
          },
          "metadata": {
            "tags": []
          }
        }
      ]
    },
    {
      "cell_type": "code",
      "metadata": {
        "colab": {
          "base_uri": "https://localhost:8080/"
        },
        "id": "xqOIUMc8zlmH",
        "outputId": "7c0fad55-dafa-42a4-9fee-541b084ea0cd"
      },
      "source": [
        "learn.save(model_path/'darija_lm_100')"
      ],
      "execution_count": null,
      "outputs": [
        {
          "output_type": "execute_result",
          "data": {
            "text/plain": [
              "Path('/content/drive/MyDrive/ml/projects/darija/models/darija_lm_100.pth')"
            ]
          },
          "metadata": {
            "tags": []
          },
          "execution_count": 21
        }
      ]
    },
    {
      "cell_type": "code",
      "metadata": {
        "id": "1tJgN5iEydQI"
      },
      "source": [
        "def decoder(sentence):\n",
        "  s = ''.join(sentence)\n",
        "  return s.split('▁')"
      ],
      "execution_count": null,
      "outputs": []
    },
    {
      "cell_type": "code",
      "metadata": {
        "colab": {
          "base_uri": "https://localhost:8080/",
          "height": 17
        },
        "id": "CThDIutYsREm",
        "outputId": "2b426550-1e61-46d0-e1b6-cfe8c4a6b192"
      },
      "source": [
        "text = 'على حسب لإحصاء لعام'\n",
        "n_words = 100\n",
        "n_sentences = 2\n",
        "preds = [learn.predict(text, n_words, temperature=0.75, decoder=decoder)\n",
        "        for _ in range(n_sentences)]"
      ],
      "execution_count": null,
      "outputs": [
        {
          "output_type": "display_data",
          "data": {
            "text/html": [
              ""
            ],
            "text/plain": [
              "<IPython.core.display.HTML object>"
            ]
          },
          "metadata": {
            "tags": []
          }
        },
        {
          "output_type": "display_data",
          "data": {
            "text/html": [
              ""
            ],
            "text/plain": [
              "<IPython.core.display.HTML object>"
            ]
          },
          "metadata": {
            "tags": []
          }
        }
      ]
    },
    {
      "cell_type": "code",
      "metadata": {
        "colab": {
          "base_uri": "https://localhost:8080/"
        },
        "id": "O_ZpqHpluX8b",
        "outputId": "02c211aa-b383-4fc0-9167-5ac0513d33b6"
      },
      "source": [
        "preds"
      ],
      "execution_count": null,
      "outputs": [
        {
          "output_type": "execute_result",
          "data": {
            "text/plain": [
              "[' xxbos على حسب لإحصاء لعام تابعة للنظام ديال لإسلام للمنطقة لحمر فيها ربعا ليستيقلال ديالها شمال إفريقيا لجزائر وعاصمة دزاير تونس جنوب شرقي ديال تلاتة لمليون ليلى فلبلاد هي لعاصمة ديالها هي لينثان اللغة الرسمية فلبلاد هوما النݣليزية لفرانساوية لينݣليزية لفلوس اللي كاتخد هي لكولون أوݣ',\n",
              " ' xxbos على حسب لإحصاء لعام تعليم نسبة لأمية اس ما كايعرفوش يقراو ولا يكتبو نسبة كان قاريين فوق انوي تانوي جامعة اقتصاد نسبة اس شيطين يقدرو يخدمو نسبة لبطالة اس ما خدامينش تايقلبو على خدمة نسبة اس اللي خدامين ولة ولا لعاطلين اللي سبق ليهوم خدمو نسبة اس اللي خدامين في لقطاع لخاص ولا لعاطلين اللي سبق ليهوم خدمو مصادر تصنيف جهة الشرق xxbos هشام السنوي خلاق دجنبر توفا كوايري مغربي']"
            ]
          },
          "metadata": {
            "tags": []
          },
          "execution_count": 25
        }
      ]
    },
    {
      "cell_type": "code",
      "metadata": {
        "id": "6Hin4_AAuZaM"
      },
      "source": [
        ""
      ],
      "execution_count": null,
      "outputs": []
    }
  ]
}